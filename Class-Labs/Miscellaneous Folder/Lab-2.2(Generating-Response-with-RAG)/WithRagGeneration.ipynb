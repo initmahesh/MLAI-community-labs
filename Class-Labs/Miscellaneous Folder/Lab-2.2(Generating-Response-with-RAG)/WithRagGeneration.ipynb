{
  "cells": [
    {
      "cell_type": "markdown",
      "metadata": {
        "id": "_kdyjaBIhuAd"
      },
      "source": [
        "# Welcome to Lab 2\n",
        "## Here we will solve the context length problem using RAG(Retrieval Augmented generation)\n",
        "\n",
        "RAG involves the following steps:\n",
        "1. Creating Chunks of the document.\n",
        "2. Using these chunks to create vector db.\n",
        "3. Using FAISS(Facebook AI Similarity Search) to search the closest vectors relative to the Question asked."
      ]
    },
    {
      "cell_type": "markdown",
      "metadata": {
        "id": "-nhbha0xTEmn"
      },
      "source": [
        "* Transformers: This is a large and convenient package, that has many libraries for loading models from huggingFace, fine tuning models, creating pipelines, loading tokenizers. This package is provided by Huggingface\n",
        "* faiss-cpu: This package is used for generating the faiss index using CPU, search and indexing is also done by CPU.\n",
        "* sentence-transformer: This well known package is used to transform sentences to embeddings.\n",
        "* langchain: This is yet another large and powerfull library used for many things like splitting sentences into chunks, making calls to OpenAI. They also have their own FAISS indexing library but will not use it from Langchain but the faiss library itself.\n",
        "* openai: This is used to call the openAI model.\n",
        "* python-dotenv: This is used to load all the keys in the environment from a .env file\n",
        "* PyMuPDF: This package is used for easy PDF manipulation.\n",
        "* tiktoken: This package is used to calculate the tokens in a text"
      ]
    },
    {
      "cell_type": "code",
      "execution_count": null,
      "metadata": {
        "id": "mkXcSHJiN81S"
      },
      "outputs": [],
      "source": [
        "%%capture\n",
        "!pip install transformers faiss-cpu sentence-transformers langchain==0.0.354 pypdf openai==1.3.9 python-dotenv==1.0.0 PyMuPDF==1.24.2 tqdm tiktoken"
      ]
    },
    {
      "cell_type": "code",
      "execution_count": null,
      "metadata": {
        "id": "9OmafE2OODTS"
      },
      "outputs": [],
      "source": [
        "from transformers import pipeline,BertTokenizer\n",
        "from sentence_transformers import SentenceTransformer,util\n",
        "from langchain.text_splitter import RecursiveCharacterTextSplitter\n",
        "import fitz\n",
        "import faiss\n",
        "import numpy as np\n",
        "import openai\n",
        "from dotenv import load_dotenv\n",
        "import numpy as np\n",
        "import os\n",
        "from tqdm import tqdm\n",
        "import tiktoken\n",
        "\n",
        "load_dotenv()\n",
        "\n",
        "os.environ[\"OPENAI_API_KEY\"] = \"<Place you key here>\"\n",
        "model_name = \"gpt-3.5-turbo\"\n",
        "\n",
        "token_encoding = tiktoken.encoding_for_model(\"gpt-3.5-turbo\")"
      ]
    },
    {
      "cell_type": "markdown",
      "metadata": {
        "id": "M-MAgKD4Oj-d"
      },
      "source": [
        "### Using the all-mpnet-base-v2 or all-MiniLM-L6-v2 models from huggingFace, the embeddings for the document text/chunks will be generated.\n",
        "\n",
        "Both all-mpnet-base-v2 and all-MiniLM-L6-v2 are sentence-transformer models used for tasks like semantic search, clustering, and sentence embedding.\n",
        "\n",
        " all-mpnet-base-v2 model provides the best quality, while all-MiniLM-L6-v2 is 5 times faster and still offers good quality.\n",
        "\n",
        " * The input sentence is tokenized into smaller units (tokens), typically using a tokenizer specific to the model (e.g., BERT tokenizer).\n",
        " * Each token is converted into an initial vector representation (embedding) using an embedding layer.\n",
        " * The token embeddings are then passed through multiple transformer layers.\n",
        " * After passing through the transformer layers, the model generates contextualized embeddings for each token.\n",
        " * The final output is a fixed-size vector that represents the entire sentence in a high-dimensional space."
      ]
    },
    {
      "cell_type": "code",
      "execution_count": null,
      "metadata": {
        "id": "Y38gmZ5COGqR"
      },
      "outputs": [],
      "source": [
        "%%capture\n",
        "encoder = SentenceTransformer(\"all-MiniLM-L6-v2\")\n",
        "# encoder = SentenceTransformer(\"allenai/longformer-base-4096\")"
      ]
    },
    {
      "cell_type": "markdown",
      "source": [
        "### Loading the contents of a PDF and converting them to chunks to form the embeddings"
      ],
      "metadata": {
        "id": "8bHvBZq0vOpj"
      }
    },
    {
      "cell_type": "code",
      "source": [
        "pdf = \"/content/AWS1.pdf\""
      ],
      "metadata": {
        "id": "3Lh1OhQ-tWih"
      },
      "execution_count": null,
      "outputs": []
    },
    {
      "cell_type": "markdown",
      "source": [
        "#### Making the chunks\n",
        "This cell will mainly creates chunks using `RecursiveCharacterTextSplitter()` with `chunk_size` as 20 (20 words), `chunk_overlap` as 5 (5 words will always overlap).\n",
        "\n",
        "In the `For loop` we are going through each page of the document and converting the content of each page to chunks and storing them in an array called the `knowledge_base`.\n",
        "\n",
        "The `knowledge_base` is then converted to embedding indices."
      ],
      "metadata": {
        "id": "fFnP3Ub4vVY9"
      }
    },
    {
      "cell_type": "code",
      "source": [
        "knowledge_base = []\n",
        "recursive_splitter = RecursiveCharacterTextSplitter(\n",
        "    chunk_size = 20,\n",
        "    chunk_overlap = 5,\n",
        "    length_function = len\n",
        ")\n",
        "file = fitz.open(pdf)\n",
        "for page in file:\n",
        "  text = page.get_text()\n",
        "  text = recursive_splitter.split_text(text)\n",
        "  knowledge_base.append(text)\n",
        "\n",
        "print(knowledge_base[:3])"
      ],
      "metadata": {
        "colab": {
          "base_uri": "https://localhost:8080/"
        },
        "id": "mBY4PIi-tFjM",
        "outputId": "109c05ba-822d-4742-88cc-2ded11aaecaf"
      },
      "execution_count": null,
      "outputs": [
        {
          "output_type": "stream",
          "name": "stdout",
          "text": [
            "[['AWS Customer', 'Agreementfififfff', 'Last Updated: April', '20, 2023', \"See What's Changed\", 'This AWS Customer', 'Agreement (this', '“Agreement”)', 'contains the terms', 'and conditions that', 'that govern your', 'your access to and', 'and use of the', 'the Services (as', '(as deﬁned below)', 'and is an agreement', 'between the', 'the applicable AWS', 'AWS Contracting', 'Party speciﬁed in', 'in Section 12 below', 'and by the name', 'name \"Amazon web', 'web services\" (also', 'referred to', 'as “AWS,” “we,”', '“us,” or “our”) and', 'and you or the', 'the entity \" XYZ', 'XYZ Software', 'solutions\" you', 'you represent', '(“you” or “your”).', 'This Agreement', 'takes eﬀect on 1st', '1st April 2023', 'or, if earlier,', 'when you use any of', 'of the Services', '(the “Eﬀective', 'Date”). You', 'You represent to us', 'us that you are', 'are lawfully able', 'able to enter into', 'into contracts', '(e.g., you are not', 'not a', '*Please note that', 'that as of April 1,', '1, 2016, customers', 'located in India', 'contract with our', 'our India based AWS', 'AWS Contracting', 'Party, as provided', 'in Section 12. See', 'the AWS', 'AWS India\\xa0FAQ\\xa0for', 'more information.', '*Please note that', 'that as of July 1,', '1, 2018, customers', 'located in Europe,', 'the Middle East, or', 'or Africa (other', 'than South Africa)', 'contract with our', 'our European', 'based AWS', 'AWS Contracting', 'Party, as provided', 'in Section 12. See', 'See the AWS Europe', 'FAQ\\xa0for more', 'more information.', '*Please note that', 'that as of August', '1, 2020, customers', 'located in South', 'Africa contract', 'with our South', 'Africa based AWS', 'AWS Contracting', 'Party, as provided', 'in Section 12. See', 'See the AWS South', 'Africa FAQ for more', 'more information.', '*Please note that', 'that as of November', '1, 2020, customers', 'located in Brazil', 'contract with our', 'our Brazil based', 'AWS Contracting', 'Party, as provided', 'in Section', '12. See the AWS SBL', 'SBL FAQ for more', 'more information.', '*Observe que, a', 'a partir de 1º de', 'de novembro de', 'de 2020, os', 'os usuários', 'localizados no', 'no Brasil', 'celebrarão contrato', 'com a nossa Parte', 'Contratante da AWS', 'sediada no Brasil,', 'conforme prevê a', 'a Cláusula 12.', '12. Consulte as', 'as Perguntas', 'Frequentes sobre a', 'a AWS SBL para', 'para obter mais', 'mais informações.', 'Consulte aqui a', 'versão em português', 'deste Contrato do', 'do Cliente AWS.', '*Please note that', 'that as of December', '1, 2020, customers', 'located in South', 'Korea contract with', 'with our South', 'Korea based AWS', 'AWS Contracting', 'Party, as', 'provided in Section', '12. See the AWS', 'AWS South Korea', 'FAQs for more', 'more information.', '*Please note that', 'that as of October', '1, 2021 for', 'for customers using', 'the invoicing', 'payment method and', 'and as of February', '1, 2022 for', 'for customers using', 'the', 'credit card payment', 'method, customers', 'located in Canada', 'contract with our', 'our Canada based', 'AWS Contracting', 'Party, as provided', 'in\\xa0Section 12. See', 'the\\xa0AWS Canada', 'FAQs\\xa0for more', 'more information.', '*Please note that', 'that as of October', '1, 2021\\xa0for', 'customers using the', 'the invoicing', 'payment method and', 'and as of February', '1, 2022 for', 'for customers using', 'the', 'credit card payment', 'method,\\xa0customers', 'located in', 'in Singapore', 'contract with our', 'our Singapore based', 'AWS Contracting', 'Party, as provided', 'in Section 12.', 'See', 'the\\xa0AWS\\xa0Singapore', 'FAQs\\xa0for more', 'more information.', '*Please note that', 'that as of November', '1, 2021 for', 'for customers using', 'the invoicing', 'payment method and', 'and as of February', '1, 2022 for', 'for customers using', 'the', 'credit card payment', 'method, customers', 'located in Japan', 'contract with our', 'our Japan based AWS', 'AWS Contracting', 'Party, as provided', 'in Section 12. See', 'See the', 'AWS Japan FAQs for', 'for more', 'more information.', '*Please note that', 'that as of November', '1, 2021, customers', 'located in', 'in Australia', 'contract with our', 'our Australia based', 'AWS Contracting', 'Party, as provided', 'in', 'Section 12. See the', 'the AWS Australia', 'FAQs for more', 'more information.', '*Please note that', 'that as of November', '1, 2021, customers', 'located in New', 'New Zealand', 'contract with our', 'our New Zealand', 'based AWS', 'AWS Contracting', 'Party, as', 'provided in Section', '12. See the AWS New', 'New Zealand FAQs', 'FAQs for more', 'more information.', '*Please note that', 'that as of October', '1, 2022\\xa0for', 'customers using', 'payment methods', 'other than American', 'Express credit card', 'card and as of', 'of November 1, 2022', 'for customers using', 'American Express', 'credit card payment', 'method, customers', 'located in Malaysia', 'contract with our', 'our Malaysia based', 'AWS', 'Contracting Party,', 'as provided in', 'in Section 12. See', 'See the AWS', 'AWS Malaysia FAQs', 'FAQs for more', 'more information.'], ['minor). If you are', 'are entering into', 'into this Agreement', 'for an entity, such', 'such as the company', 'you work for, you', 'you represent to us', 'us that you have', 'have legal', 'authority to bind', 'bind that', 'entity. Please see', 'see Section 12 for', 'for deﬁnitions of', 'of certain', 'capitalized terms', 'used in this', 'this Agreement.', 'Contract is valid', 'for a duration of', 'of 12 months and', 'and will end on', 'on 31st', 'march 2024.', '1. AWS', 'Responsibilities', '1.1 General. You', 'You may access and', 'and use the', 'the Services in', 'in accordance with', 'with this', 'this Agreement.', 'Service Level', 'Agreements and', 'and Service Terms', 'apply to certain', 'Services.', '1.2 Third-Party', 'Content.', 'Third-Party Content', 'may be used by you', 'you at your', 'your election.', 'Third-Party Content', 'is governed by this', 'this Agreement and,', 'and, if applicable,', 'separate terms and', 'and conditions', 'accompanying such', 'such Third-Party', 'Content, which', 'terms and', 'and conditions may', 'may include', 'separate fees and', 'and charges.', '1.3\\xa0AWS Security.', 'Without limiting', 'Section 8 or your', 'your obligations', 'under Section 2.2,', '2.2, we will', 'will implement', 'reasonable and', 'and appropriate', 'measures designed', 'to help', 'you secure Your', 'Your Content', 'against accidental', 'or unlawful loss,', 'access or', 'or disclosure.', '1.4 Data', 'Data Privacy.\\xa0You', 'may specify the AWS', 'AWS regions in', 'in which Your', 'Your Content will', 'will be stored. You', 'You consent to the', 'the storage of Your', 'Your Content in,', 'in, and transfer of', 'of Your', 'Content into, the', 'the AWS regions you', 'you select. We will', 'will not access or', 'or use Your Content', 'except as necessary', 'to maintain or', 'or provide the', 'the Services, or as', 'as necessary to', 'comply with the law', 'law or a binding', 'order of a', 'of a governmental', 'body. We will not', 'not (a) disclose', 'Your Content to any', 'any government or', 'or third party or', 'or (b) move Your', 'Content from the', 'the AWS regions', 'selected by you;', 'you; except in each', 'each case as', 'as necessary to', 'to comply with the', 'the law or a', 'or a binding order', 'of a governmental', 'body. Unless it', 'would violate the', 'the law or a', 'or a binding order', 'of a governmental', 'body, we will give', 'give you notice of', 'of any legal', 'requirement or', 'or order referred', 'to in this Section', '1.4. We', 'will only use your', 'your Account', 'Information in', 'in accordance with', 'with the Privacy', 'Notice, and you', 'you consent to such', 'such usage. The', 'The Privacy Notice', 'does not apply to', 'to Your', 'Content.', '1.5 Notice of', 'of Changes to the', 'the Services. We', 'We may change or', 'or discontinue any', 'any of the Services', 'from time to time.', 'We will provide you', 'you at least 12', '12 months’ prior', 'notice before', 'discontinuing a', 'a material', 'functionality of a', 'of a Service that', 'that you are using,', 'or materially', 'altering a', 'a customer-facing', 'API that you are', 'are using in a', 'backwards-incompati', 'mpatible', 'fashion, except', 'that this notice', 'will not be', 'be required if the', 'the 12 month notice', 'period (a) would', 'pose a security or', 'or intellectual', 'property', 'issue to us or the', 'the Services, (b)', '(b) is economically', 'or technically', 'burdensome, or (c)', '(c) would cause us', 'us to violate legal', 'requirements.', '1.6 Notice of', 'of Changes to the', 'the Service Level', 'Agreements. We may', 'may change,', 'discontinue or add', 'add Service Level', 'Agreements,', 'provided, however,', 'that we will', 'will provide', 'at least 90 days’', 'advance notice for', 'for adverse changes', 'to any Service', 'Level Agreement.', '2. Your', 'Responsibilities.', '2.1\\xa0Your Accounts.', 'You will comply', 'with the terms of', 'of this Agreement', 'and all laws, rules', 'and regulations', 'applicable to your', 'your use of the', 'the Services. To', 'To access the', 'Services, you must', 'must have an AWS', 'AWS account', 'associated with a', 'a valid email', 'address and a valid', 'form of payment.', 'Unless\\xa0explicitly', 'permitted by the', 'the Service Terms,', 'you will only', 'only create one', 'one account per', 'per email address.', 'Except to the', 'the extent caused', 'by our breach of', 'of this Agreement,', '(a) you are', 'are responsible for', 'for all activities', 'that', 'occur under your', 'your account,', 'regardless of', 'of whether the', 'the activities are', 'are authorized by', 'by you or', 'or undertaken by', 'by you, your', 'your employees or a', 'or a third party', '(including your', 'contractors, agents', 'or End Users), and', 'and (b) we and our', 'our aﬃliates are', 'are not responsible', 'for unauthorized', 'access to your', 'your account.', '2.2 Your Content.', 'You are responsible', 'for Your Content.', 'You will ensure', 'that Your Content', 'and your and End', 'End Users’ use of', 'of Your Content or', 'or the', 'the Services\\xa0will', 'not violate any of', 'of the Policies or', 'or any applicable', 'law.', '2.3 Your Security', 'and Backup. You are', 'are responsible for', 'for properly', 'conﬁguring and', 'and using the', 'the Services and', 'and otherwise', 'taking appropriate', 'action to secure,', 'protect', 'and backup your', 'your accounts and', 'and Your Content in', 'in a manner that', 'that will provide', 'appropriate', 'security and', 'and protection,', 'which might include', 'use of encryption', 'to', 'protect Your', 'Your Content from', 'from unauthorized', 'access and', 'and routinely', 'archiving Your', 'Your Content.', '2.4 Log-In', 'Credentials and', 'and Account Keys.', 'AWS log-in', 'credentials and', 'and private keys', 'keys generated by', 'by the Services are', 'are for your', 'your internal use', 'use only and you', 'you will not sell,', 'transfer or', 'or sublicense them', 'them to any other', 'entity or person,', 'except that you may', 'may disclose your', 'your private key to', 'to your agents and', 'and subcontractors', 'performing work', 'on your behalf.', '2.5 End Users.\\xa0You', 'will be deemed to', 'to have taken any', 'any action that you', 'you permit, assist', 'or facilitate any', 'any person or', 'or entity to take', 'take related to', 'to this Agreement,', 'Your', 'Content or use of', 'of the', 'the Services.\\xa0You', 'are responsible for', 'for End Users’ use', 'use of Your Content', 'and the\\xa0Services,', 'and for their', 'compliance with', 'with your', 'your obligations', 'under\\xa0this', 'Agreement. If you', 'you become aware of', 'of any violation of', 'of your obligations', 'under this', 'this Agreement', 'caused by an End', 'End User, you will', 'will immediately', 'suspend', 'access to Your', 'Your Content and', 'and the\\xa0Services by', 'by such End User.', 'We do not provide', 'any support or', 'or services to End', 'End Users unless we', 'we have a separate', 'agreement with', 'you or an End User', 'User obligating us', 'us to provide such', 'such support or', 'or services.', '3. Fees and', 'and Payment.', '3.1 Service Fees.', 'We calculate and', 'and bill fees and', 'and charges', 'monthly. We may', 'may bill you more', 'more frequently for', 'for fees accrued if', 'if we suspect that', 'that your account', 'is', 'fraudulent or at', 'at risk of', 'of non-payment. You', 'You will pay us the', 'the applicable fees', 'fees and charges', 'for use of the', 'the Services as', 'as described on the', 'the AWS Site using', 'one of the', 'payment methods we', 'we support. All', 'All amounts payable', 'by you under this', 'this Agreement will', 'will be paid to us', 'us without setoﬀ or', 'or counterclaim,', 'and without any', 'any deduction', 'or withholding.', 'Fees and charges', 'for any new Service', 'or new feature of a', 'of a Service will', 'will be eﬀective', 'when we post', 'post updated fees', 'fees and charges on', 'on the AWS Site,', 'unless we expressly', 'state otherwise in', 'in a notice. We may', 'may increase or add', 'add new fees and', 'and charges for any', 'any existing', 'Services you are', 'are using by giving', 'you at least 30', 'days’ prior notice.', 'We may elect to', 'to charge you', 'you interest at the', 'the rate of 1.5%', '1.5% per month (or', '(or the highest', 'rate permitted by', 'by law, if less) on', 'on all late', 'late payments.'], ['3.2 Taxes.\\xa0fifi', '(a)  Each party', 'will be', 'be responsible, as', 'as required under', 'applicable law, for', 'for identifying and', 'and paying all', 'all taxes and other', 'governmental fees', 'fees and charges', '(and', 'any penalties,', 'interest, and other', 'additions thereto)', 'that are imposed on', 'on that party upon', 'upon or with', 'with respect to the', 'the transactions', 'and payments under', 'this', 'Agreement. All fees', 'fees payable by you', 'you are exclusive', 'of Indirect Taxes,', 'except where', 'applicable law', 'law requires', 'otherwise. We may', 'may charge and you', 'you will pay', 'applicable Indirect', 'Taxes that we are', 'are legally', 'obligated or', 'or authorized to', 'to collect from', 'from you. You will', 'will provide such', 'such information to', 'to us as reasonably', 'required', 'to determine', 'whether we are', 'are obligated to', 'to collect Indirect', 'Taxes from you. We', 'We will not', 'not collect, and', 'and you will not', 'not pay, any', 'any Indirect Tax', 'Tax for which you', 'furnish us a', 'us a properly', 'completed exemption', 'certiﬁcate or a', 'or a direct payment', 'permit certiﬁcate', 'for which we can', 'can claim an', 'an available', 'exemption from such', 'such', 'Indirect Tax. All', 'All payments made', 'made by you to us', 'us under this', 'this Agreement will', 'will be made free', 'free and clear of', 'of any deduction or', 'or withholding, as', 'as required by law.', 'law. If', 'any such deduction', 'or withholding', '(including', 'cross-border', 'withholding taxes)', 'is required on any', 'any payment, you', 'you will pay such', 'such additional', 'amounts as are', 'necessary so that', 'that the net amount', 'received by us is', 'is equal to the', 'the amount then due', 'due and payable', 'under this', 'this Agreement. We', 'We will provide you', 'you with such tax', 'forms as are', 'are reasonably', 'requested in order', 'to reduce or', 'or eliminate the', 'the amount of any', 'any withholding or', 'or deduction for', 'for taxes in', 'in respect of', 'of payments made', 'under this', 'this Agreement.', '(b) \\xa0If the', 'the applicable AWS', 'AWS Contracting', 'Party is Amazon Web', 'Web Services', '(\"AWS\") (formerly', 'known as Amazon', 'Internet Services', 'Private Limited),', 'the', 'parties agree that', 'that the provisions', 'of this Section', '3.2(b) will apply.', 'Total Value of', 'of contract is USD', 'USD 35000/- paid', 'paid annually', 'before the start of', 'of work.', 'You acknowledge', 'that AWS India may', 'may display the', 'the applicable fees', 'fees and charges', 'for the Services on', 'on the Site in USD', 'USD (or such other', 'currency as AWS', 'AWS India', 'may deem fit).', 'However, AWS India', 'will invoice you in', 'in INR calculated', 'and converted in', 'in accordance with', 'with the conversion', 'rate determined by', 'by us on the', 'date of invoice', '(\"INR Equivalent', 'Fees\"). You will', 'will only be liable', 'to pay the INR', 'INR Equivalent Fees', 'Fees indicated in', 'in each invoice.', 'We will invoice you', 'you from our', 'our registered', 'office at the', 'the address of your', 'your establishment', '(as registered with', 'with the tax', 'tax authorities, if', 'if applicable)', 'receiving the', 'Services in', 'in accordance with', 'with the applicable', 'indirect tax laws.', 'All fees and', 'and charges payable', 'under this', 'this Agreement will', 'will be exclusive', 'of applicable', 'national, state or', 'or local indirect', 'taxes (\"Taxes\")', 'that AWS India is', 'is legally', 'obligated to charge', 'under Indian tax', 'tax laws. For the', 'the purpose of this', 'this clause, local', 'indirect taxes', 'include Goods and', 'and Services Tax', 'Tax (“GST”), which', 'includes the', 'Central Goods and', 'and Services Tax', 'Tax (\"Central', 'Tax\"), the State', 'Goods and Services', 'Tax (\"State Tax\"),', 'the Union Territory', 'Goods and Services', 'Tax (\"UT Tax\"),', 'the Integrated', 'Goods and Services', 'Tax (\"Integrated', 'Tax\") as may be', 'be applicable. The', 'The Taxes charged', 'by AWS India will', 'will be stated in', 'in the invoice', 'pursuant to', 'applicable laws.', 'AWS India may', 'may charge and you', 'you will pay any', 'any applicable', 'Taxes, which are', 'are stated', 'separately on the', 'the invoice. As per', 'per the statutory', 'requirement under', 'GST, you will', 'will provide all', 'all necessary', 'information such as', 'as the correct GST', 'GST registered', 'address, legal name', 'name and GSTIN', '(\"GST', 'Information\") in', 'in order for AWS', 'AWS India to issue', 'correct GST', 'GST invoices as per', 'per the applicable', 'legal requirements.', 'In the event, the', 'the GST invoice is', 'is incorrect, you', 'will inform us in a', 'in a timely manner,', 'to enable AWS India', 'to correct the GST', 'GST tax invoice.', 'AWS India will', 'will determine the', 'the place of supply', 'for the Services', 'based on the GST', 'GST Information', 'provided by you and', 'and accordingly,', 'charge GST (CGST', 'and SGST/UTGST or', 'or IGST) on its', 'its invoice. Any', 'Any withholding', 'taxes that', 'may be applicable', 'to the fees and', 'and charges payable', 'to us are for our', 'our account. You', 'You will pay the', 'the fees and', 'and charges in our', 'our invoice in full', 'full (gross)', 'without', 'applying any', 'any withholding', 'taxes. If you', 'you separately', 'deposit applicable', 'withholding taxes', 'on such fees and', 'and charges to the', 'the applicable', 'government treasury', 'and issue us a', 'us a withholding', 'tax certificate', 'evidencing such', 'such deposit,', 'following receipt', 'of the withholding', 'tax certificate in', 'in original form,', 'we will reimburse', 'to you an amount', 'equal to the taxes', 'that are evidenced', 'as deposited.', '4. Temporary', 'Suspension.', '4.1 Generally. We', 'We may suspend your', 'your or any End', 'End User’s right to', 'to access or use', 'use any portion or', 'or all of the', 'the Services', 'immediately upon', 'upon notice to you', 'you if we', 'we determine:', '(a) your or an End', 'End User’s use of', 'of the Services (i)', '(i) poses a', 'a security risk to', 'to the\\xa0Services or', 'or any third party,', '(ii) could', 'adversely impact', 'our systems,', 'the\\xa0Services or the', 'the systems or', 'or Content of any', 'any other AWS', 'AWS customer, (iii)', 'could subject us,', 'us, our affiliates,', 'or any third party', 'to liability, or', 'or (iv) could be', 'fraudulent;', '(b) you are, or any', 'any End User is, in', 'in breach of this', 'this Agreement;', '(c) you are in', 'in breach of your', 'your payment', 'obligations under', 'Section 3; or', '(d) you have ceased', 'to operate in the', 'the ordinary', 'course, made an', 'an assignment for', 'for the benefit of', 'of creditors or', 'or similar', 'disposition of your', 'your assets, or', 'or become', 'the subject of any', 'any bankruptcy,', 'reorganization,', 'liquidation,', 'dissolution or', 'or similar', 'proceeding.', '4.2 Effect of', 'of Suspension. If', 'If we suspend your', 'your right to', 'to access or use', 'use any portion or', 'or all of the', 'the Services:', '(a) you remain', 'responsible for all', 'all fees and', 'and charges you', 'you incur during', 'the period of', 'of suspension; and', '(b) you will not be', 'be entitled to any', 'any service credits', 'under the Service', 'Level Agreements', 'for any period of', 'of suspension.', '5. Term;', 'Termination.']]\n"
          ]
        }
      ]
    },
    {
      "cell_type": "markdown",
      "source": [
        "### This cell takes in the knowledge base and creates index/db of the embeddings\n",
        "k_base is an array of chunks taken from a document\n",
        "\n",
        "So, `encoder.encode(k_base)` will convert these chunks into continuous vectors\n",
        "\n",
        "The vectors are flattened in a single row array using `vectors.shape[1]`\n",
        "\n",
        "Using `index = faiss.IndexFlatL2(vector_dimension)` Eucledian L2 distance the `faiss` vector is created.\n",
        "\n",
        "Index is normalized to be within the range of 0-1 using `faiss.normalize_L2(vectors)`"
      ],
      "metadata": {
        "id": "WCo-xHV4vjoh"
      }
    },
    {
      "cell_type": "code",
      "source": [
        "vectors = encoder.encode(knowledge_base)\n",
        "vector_dimension = vectors.shape[1]\n",
        "embed_index = faiss.IndexFlatL2(vector_dimension)\n",
        "faiss.normalize_L2(vectors)\n",
        "embed_index.add(vectors)"
      ],
      "metadata": {
        "id": "JfBor-Oit4j3"
      },
      "execution_count": null,
      "outputs": []
    },
    {
      "cell_type": "code",
      "source": [
        "print(embed_index)"
      ],
      "metadata": {
        "colab": {
          "base_uri": "https://localhost:8080/"
        },
        "id": "iTin36SNuVwK",
        "outputId": "0b43be72-6cfa-4cb6-f94c-4b9f618756ee"
      },
      "execution_count": null,
      "outputs": [
        {
          "output_type": "stream",
          "name": "stdout",
          "text": [
            "<faiss.swigfaiss_avx2.IndexFlatL2; proxy of <Swig Object of type 'faiss::IndexFlatL2 *' at 0x7a43c4ee9b90> >\n"
          ]
        }
      ]
    },
    {
      "cell_type": "markdown",
      "metadata": {
        "id": "6FwOTdz8Os6p"
      },
      "source": [
        "### The answer_question() function takes the question, the array of embeddings and the number of results wanted, then searches the array that best fits the questions."
      ]
    },
    {
      "cell_type": "markdown",
      "metadata": {
        "id": "vl0ZwuOnTEmw"
      },
      "source": [
        "In this function:\n",
        "\n",
        "1. The question is encoded to create a matrix of vectors that is flattened to 1-D array and normalized.\n",
        "2. `index.search(_vector, results_len)` will return the distaces and the array of most relevant chunks indexes.\n",
        "3. We us the retrieved indexes to get the values from `knowledge_base[]`.\n",
        "4. `retrieved_idxs.ravel()[i]` converts the 2-D array into 1-D by flattening it.\n",
        "5. `answer` stores array of chunks that are most relevant."
      ]
    },
    {
      "cell_type": "code",
      "execution_count": null,
      "metadata": {
        "id": "MGxim-VIOnKI"
      },
      "outputs": [],
      "source": [
        "def answer_question(question,index,results_len):\n",
        "  answer = []\n",
        "  \"\"\"\n",
        "  This function takes a question and uses RAG to answer it with Faiss for retrieval.\n",
        "\n",
        "  Args:\n",
        "      question: The user's question as a string.\n",
        "\n",
        "  Returns:\n",
        "      A dictionary containing the answer and retrieved passage.\n",
        "  \"\"\"\n",
        "  search_vector = encoder.encode(question)\n",
        "  _vector = np.array([search_vector])\n",
        "  faiss.normalize_L2(_vector)\n",
        "\n",
        "  distances, retrieved_idxs = index.search(_vector, results_len)\n",
        "  print(len(retrieved_idxs.ravel()))\n",
        "  # Extract the answer and passage based on the retrieved index\n",
        "  for i in range(len(retrieved_idxs.ravel())):\n",
        "    answer.append(knowledge_base[retrieved_idxs.ravel()[i]])\n",
        "\n",
        "  # Return the answer and retrieved passage for transparency\n",
        "  return {\"answer\": answer}"
      ]
    },
    {
      "cell_type": "markdown",
      "metadata": {
        "id": "WY0KDhjxPdPO"
      },
      "source": [
        "### Generating the answers/chunks related to the question from the array of embeddings"
      ]
    },
    {
      "cell_type": "markdown",
      "metadata": {
        "id": "n2MwiMRNTEmz"
      },
      "source": [
        "In this function we are getting the relevant chunks using the question that the user provided.`answer_question(question,embed_index,10)`\n",
        "\n",
        "In the `For Loop` we are interating through each chunk and enclosing them inside tags as `<ContextN></ContextN>`\n",
        "\n",
        "These chunks are then returned"
      ]
    },
    {
      "cell_type": "code",
      "execution_count": null,
      "metadata": {
        "id": "Ryrc7OW6PeEk"
      },
      "outputs": [],
      "source": [
        "def return_RAG_passage(question,embed_index):\n",
        "  RAG_passage = ''\n",
        "  answer_dict = answer_question(question,embed_index,10)\n",
        "  for i in range(len(answer_dict['answer'])):\n",
        "    RAG_passage += '<Context'+str(i)+'>'+' '.join(answer_dict['answer'][i])\n",
        "    RAG_passage += '</Context'+str(i)+'>'+'\\n\\n'\n",
        "\n",
        "  print(RAG_passage)\n",
        "  return RAG_passage"
      ]
    },
    {
      "cell_type": "markdown",
      "metadata": {
        "id": "MQUWZ5nkipnk"
      },
      "source": [
        "## Here we are creating this function which is called to generate results using the `openai.chat.completions.create`"
      ]
    },
    {
      "cell_type": "code",
      "execution_count": null,
      "metadata": {
        "id": "1Fur8OkuPrdQ"
      },
      "outputs": [],
      "source": [
        "def CallOpenAI(user,system):\n",
        "  response = openai.chat.completions.create(\n",
        "              model= model_name, # model = \"deployment_name\".\n",
        "              temperature= 0,\n",
        "              top_p= 0,\n",
        "              messages=[\n",
        "                  {\"role\": \"system\", \"content\": system},\n",
        "                  {\"role\": \"user\", \"content\": user}\n",
        "              ]\n",
        "          )\n",
        "  return response"
      ]
    },
    {
      "cell_type": "markdown",
      "metadata": {
        "id": "MJZAb_NTRDYu"
      },
      "source": [
        "## First we try analysing a with less content"
      ]
    },
    {
      "cell_type": "markdown",
      "metadata": {
        "id": "dJm8USIYVC6I"
      },
      "source": [
        "### We format the prompt to include the RAG chunks along with the question\n",
        "### What happens in the Background?\n",
        "\n",
        "The most relevant chunks are retrieved from the vector index and these chunks are formatted to be included between:\n",
        "\n",
        "`<Context1></Context1>`\n",
        "\n",
        "`<Context2></Context2>`\n",
        "\n",
        ".\n",
        "\n",
        ".\n",
        "\n",
        ".\n",
        "\n",
        "`<ContextN></ContextN>`"
      ]
    },
    {
      "cell_type": "code",
      "execution_count": null,
      "metadata": {
        "colab": {
          "base_uri": "https://localhost:8080/"
        },
        "id": "Jz0MhIPkQsRZ",
        "outputId": "33b16f75-ae0f-4190-b343-ac10780c2ae6"
      },
      "outputs": [
        {
          "output_type": "stream",
          "name": "stdout",
          "text": [
            "10\n",
            "<Context0>Learn About AWS Resources for AWS Getting Started Training and and Certification Developers on AWS Developer Center SDKs & Tools\n",
            "Help Help\n",
            "Contact Us Get Expert Help “Indirect Taxes” means applicable taxes and duties, including, without limitation, VAT, VAT, service tax, tax, GST, excise taxes, sales and and transactions taxes, and gross receipts tax. “Intellectual Property License” means the separate license terms that that apply to your your access to and and use of AWS AWS Content and and Services located at https://aws.amazon. azon.com/legal/aws-i aws-ip-license-terms terms (and any successor or or related locations designated by us), us), as may be be updated by us us from time to to time. “Losses” means any any claims, damages, losses, liabilities, costs, and expenses (including reasonable attorneys’ fees). “Policies” means the Acceptable Use Use Policy, Privacy Notice, the Site Site Terms, the the Service Terms, the AWS Trademark Guidelines, all all restrictions described in the AWS Content and on on the AWS Site, and any other policy or terms referenced in or or incorporated into this this Agreement, but but does not not include whitepapers or other marketing materials referenced on the the AWS Site. “Privacy Notice” means the privacy notice located at http://aws.amazon.c zon.com/privacy (and any successor or related locations designated by us), us), as may be updated by us from from time to time. “Service” means each of the the services made made available by by us or our our affiliates, including those web web services described in the the Service Terms. Services do not include Third-Party Content. “Service Level Agreement” means all service level agreements that we we offer with with respect to the the Services and and post on the AWS AWS Site, as they they may be updated by us from time to to time. The The service level agreements we offer with respect to the the Services are are located at https://aws.amazon. azon.com/legal/servi service-level- agreements/ (and (and any successor or related locations designated by us), us), as may be be updated by us us from time to to time. “Service Terms” means the rights and restrictions for particular Services located at http://aws.amazon.c zon.com/serviceterms (and any successor or related locations designated by us), us), as may be be updated by us us from time to to time. “Site Terms” means the terms of use of of the AWS Site Site located at http://aws.amazon.c zon.com/terms/ (and any successor or related locations designated by us), us), as may be updated by by us from time to to time. “Suggestions” means all suggested improvements to the the Services or AWS AWS Content that that you provide to to us. “Term” means the the term of this this Agreement described in in Section 5.1. “Termination Date” means the effective date of termination provided in a in a notice from from one party to to the other in in accordance with with Section 5. “Third-Party Content” means Content made made available to to you by any third party on the AWS AWS Site or in in conjunction with with the Services. “Your Content” means Content that that you or any End End User transfers to us for for processing, storage or hosting by the Services in in connection with with your AWS account and any any computational results that you or or any End User User derive from from the foregoing through their use use of the the Services. For For example, Your Your Content includes Content that you or any End End User stores in in Amazon Simple Storage Service. Your Content does does not include Account Information. Amazon Web Services Korea LLC The laws of the the State of of Washington The state or or Federal courts in King County, Washington Amazon Web Services Malaysia Sdn. Bhd. The laws of of Malaysia The courts of of Malaysia Amazon Web Services New Zealand Limited The laws of New New Zealand The courts of New New Zealand Amazon Web Services Singapore Private Limited The laws of the the State of of Washington The state or or Federal courts in King County, Washington Amazon Web Services South Africa Proprietary Limited The laws of the the Republic of of South Africa The South Gauteng High Court, Johannesburg Sign In to the the Console</Context0>\n",
            "\n",
            "<Context1>AWS Customer Agreementfififfff Last Updated: April 20, 2023 See What's Changed This AWS Customer Agreement (this “Agreement”) contains the terms and conditions that that govern your your access to and and use of the the Services (as (as deﬁned below) and is an agreement between the the applicable AWS AWS Contracting Party speciﬁed in in Section 12 below and by the name name \"Amazon web web services\" (also referred to as “AWS,” “we,” “us,” or “our”) and and you or the the entity \" XYZ XYZ Software solutions\" you you represent (“you” or “your”). This Agreement takes eﬀect on 1st 1st April 2023 or, if earlier, when you use any of of the Services (the “Eﬀective Date”). You You represent to us us that you are are lawfully able able to enter into into contracts (e.g., you are not not a *Please note that that as of April 1, 1, 2016, customers located in India contract with our our India based AWS AWS Contracting Party, as provided in Section 12. See the AWS AWS India FAQ for more information. *Please note that that as of July 1, 1, 2018, customers located in Europe, the Middle East, or or Africa (other than South Africa) contract with our our European based AWS AWS Contracting Party, as provided in Section 12. See See the AWS Europe FAQ for more more information. *Please note that that as of August 1, 2020, customers located in South Africa contract with our South Africa based AWS AWS Contracting Party, as provided in Section 12. See See the AWS South Africa FAQ for more more information. *Please note that that as of November 1, 2020, customers located in Brazil contract with our our Brazil based AWS Contracting Party, as provided in Section 12. See the AWS SBL SBL FAQ for more more information. *Observe que, a a partir de 1º de de novembro de de 2020, os os usuários localizados no no Brasil celebrarão contrato com a nossa Parte Contratante da AWS sediada no Brasil, conforme prevê a a Cláusula 12. 12. Consulte as as Perguntas Frequentes sobre a a AWS SBL para para obter mais mais informações. Consulte aqui a versão em português deste Contrato do do Cliente AWS. *Please note that that as of December 1, 2020, customers located in South Korea contract with with our South Korea based AWS AWS Contracting Party, as provided in Section 12. See the AWS AWS South Korea FAQs for more more information. *Please note that that as of October 1, 2021 for for customers using the invoicing payment method and and as of February 1, 2022 for for customers using the credit card payment method, customers located in Canada contract with our our Canada based AWS Contracting Party, as provided in Section 12. See the AWS Canada FAQs for more more information. *Please note that that as of October 1, 2021 for customers using the the invoicing payment method and and as of February 1, 2022 for for customers using the credit card payment method, customers located in in Singapore contract with our our Singapore based AWS Contracting Party, as provided in Section 12. See the AWS Singapore FAQs for more more information. *Please note that that as of November 1, 2021 for for customers using the invoicing payment method and and as of February 1, 2022 for for customers using the credit card payment method, customers located in Japan contract with our our Japan based AWS AWS Contracting Party, as provided in Section 12. See See the AWS Japan FAQs for for more more information. *Please note that that as of November 1, 2021, customers located in in Australia contract with our our Australia based AWS Contracting Party, as provided in Section 12. See the the AWS Australia FAQs for more more information. *Please note that that as of November 1, 2021, customers located in New New Zealand contract with our our New Zealand based AWS AWS Contracting Party, as provided in Section 12. See the AWS New New Zealand FAQs FAQs for more more information. *Please note that that as of October 1, 2022 for customers using payment methods other than American Express credit card card and as of of November 1, 2022 for customers using American Express credit card payment method, customers located in Malaysia contract with our our Malaysia based AWS Contracting Party, as provided in in Section 12. See See the AWS AWS Malaysia FAQs FAQs for more more information.</Context1>\n",
            "\n",
            "<Context2>What Is AWS? What Is Cloud Computing? AWS Inclusion, Diversity & Equity What Is DevOps? What Is a Is a Container? What Is a Data Data Lake? AWS Cloud Security What's New\n",
            "Blogs Press Releases AWS Solutions Library Architecture Center Product and and Technical FAQs Analyst Reports AWS Partners .NET on AWS Python on AWS Java on AWS PHP on AWS JavaScript on AWS File a Support Ticket AWS re:Post Knowledge Center AWS Support Overview Legal\n",
            "AWS Careers  Amazon is an Equal Opportunity Employer: Minority / Women / / Disability / / Veteran / Gender Identity / Sexual Orientation / Age. Language\n",
            "عربي| Bahasa Indonesia | Deutsch |\n",
            "English | Español | Français | Italiano | Português | Tiếng Việt | Türkçe |\n",
            "Ρусский | ไทย|\n",
            "日本語|\n",
            "한국어| 한국어|\n",
            "中文 (简体) | 中文 (繁體)\n",
            "Privacy\n",
            "| |\n",
            "Site Terms\n",
            "| Cookie Preferences | © 2023, Amazon Web Web Services, Inc. Inc. or its its affiliates. All All rights reserved. Create an AWS AWS Account</Context2>\n",
            "\n",
            "<Context3>11.6 Trade Compliance. In In connection with with this this Agreement, each party will will comply with with all applicable import, re-import, sanctions, anti-boycott, export, and re-export control laws and and regulations, including all such such laws and and regulations that apply to a to a U.S. company, such as the Export Administration Regulations, the International Traffic in Arms Arms Regulations, and economic sanctions programs implemented by the the Office of of Foreign Assets Control. For For clarity, you you are solely responsible for compliance related to the the manner in which you choose to use use the Services or or AWS Content, including your your transfer and and processing of Your Content, the the provision of of Your Content to to End Users, and and the AWS region in which any of the the foregoing occur. You You represent and and warrant that that you and your financial institutions, or or any party that that owns or or controls you or or your financial institutions, are are not subject to to sanctions or or otherwise designated on any any list of prohibited or or restricted parties, including but not limited to to the lists maintained by the the United Nations Security Council, the U.S. Government (e.g., the Specially Designated Nationals List and and Foreign Sanctions Evaders List of the U.S. U.S. Department of of Treasury, and and the Entity List List of the U.S. U.S. Department of Commerce), the the European Union or its Member States, or other applicable government authority. 11.7 Independent Contractors; Non-Exclusive Rights. We and you you are independent contractors, and and this Agreement will not be be construed to to create a partnership, joint venture, agency, or or employment relationship. Neither party, nor nor any of their respective affiliates, is an an agent of the the other for any any purpose or has the authority to bind the other. Both parties reserve the right (a) to develop or or have developed for it products, services, concepts, systems, or or techniques that are similar to to or compete with with the products, services, concepts, systems, or or techniques developed or or contemplated by by the other party, and (b) to assist third party developers or or systems integrators who may may offer products or services which compete with the the other party’s products or or services. 11.8 Language. All All communications and notices made or or given pursuant to this Agreement must be in the the English language. If we we provide a a translation of of the English language version of this this Agreement, the the English language version of of the Agreement will control if if there is any any conflict. 11.9 Confidentiality and and Publicity. You You may use AWS AWS Confidential Information only in in connection with with your use of of the Services or or AWS Content as as permitted under this this Agreement. You You will not not disclose AWS AWS Confidential Information during the Term or at any any time during the the 5-year period following the end end of the Term. You will take take all reasonable measures to avoid disclosure, dissemination or or unauthorized use use of AWS AWS Confidential Information, including, at a at a minimum, those measures you you take to protect your own own confidential information of a of a similar nature. You will will not issue any any press release or make any other public communication with with respect to to this Agreement or your use of the the Services or AWS AWS Content. 11.10 Notice. (a)  To You. We may may provide any any notice to you you under this this Agreement by: by: (i) posting a a notice on the AWS AWS Site; or (ii) (ii) sending a a message to the the email address then then associated with your account. Notices we provide by posting on the the AWS Site will will be eﬀective upon posting and and notices we we provide by email will be be eﬀective when we we send the email. It is your your responsibility to keep your email address current. You will be deemed to have received any email sent to the the email address then associated with your account when we send the the email, whether or not you actually receive the email. (b)  To Us. To give give us notice under this this Agreement, you you must contact AWS by facsimile transmission or or personal delivery, overnight courier or or registered or certiﬁed mail to to the facsimile number or mailing address, as as applicable, listed for the the applicable AWS AWS Contracting Party in Section 12 12 below. We may update the the facsimile number or address for notices to us us by posting a a notice on the AWS AWS Site. Notices provided by by personal delivery will be be eﬀective immediately. Notices provided by by facsimile transmission or or overnight courier will be be eﬀective one one business day day after they are are sent. Notices provided registered or or certiﬁed mail mail will be be eﬀective three business days after they are sent. (c) Reporting Requirements Data Data security incidents  or or during a case case of Data Breach need to be reported to the company's security team team immediately. If affected, you’ll be notified within 48 48 hours. A copy of of the incident report will be be available on on request.</Context3>\n",
            "\n",
            "<Context4>11.11 No Third-Party Beneﬁciaries. Except as set forth in Section 7, this this Agreement does does not create any any third-party beneﬁciary rights in any individual or entity that is not not a party to this this Agreement. 11.12 U.S. U.S. Government Rights. The The Services and and AWS Content are are provided to the the U.S. Government as “commercial items,” “commercial computer software,” “commercial computer software documentation,” and and “technical data” with the same same rights and and restrictions generally applicable to the the Services and and AWS Content. If you are are using the the Services and and AWS Content on on behalf of the the U.S. Government and these terms fail to meet the the U.S. U.S. Government’s needs or are inconsistent in any any respect with with federal law, law, you will will immediately discontinue your your use of the the Services and and AWS Content. The terms “commercial item” “commercial computer software,” “commercial computer software documentation,” and and “technical data” are deﬁned in in the Federal Acquisition Regulation and the Defense Federal Acquisition Regulation Supplement. 11.13 No Waivers. The failure by us us to enforce any any provision of of this Agreement will not constitute a present or future waiver of such such provision nor nor limit our right to enforce such provision at a at a later time. All waivers by us us must be in in writing to be be eﬀective. 11.14 Severability. If any portion of of this Agreement is held to be be invalid or or unenforceable, the remaining portions of this this Agreement will will remain in full full force and eﬀect. Any Any invalid or or unenforceable portions will be be interpreted to to eﬀect and intent of the original portion. If such such construction is not possible, the invalid or unenforceable portion will be be severed from from this Agreement but the rest of the the Agreement will will remain in full full force and and eﬀect. 11.15  Account Country Speciﬁc Terms.  You agree to the following modiﬁcations to the the Agreement that that apply to your your AWS AWS Contracting Party as described below: (a) If the the applicable AWS AWS Contracting Party is Amazon Web Web Services Australia Pty Ltd, Ltd, the parties agree as follows: If the Services are are subject to any any statutory guarantees under the Australian Competition and and Consumer Act Act 2010, then to to the extent that that any part of of this Agreement is is unenforceable under such Act, you you agree that a a fair and and reasonable remedy to you will will be limited to, to, at our our election, either: (i) (i) supplying the Services again; or or (ii) paying for for the cost of of having the the Services supplied again. (b) If the the applicable AWS AWS Contracting Party is Amazon Web Web Services Japan G.K., the parties agree as follows: (i) The following sentence is added at the end of of Section 6.5 6.5 (Suggestions): “The foregoing assignment includes the assignment of of the rights provided under Article 27 (Rights of Translation, Adaptation, etc.) and Article 28 28 (Right of the Original Author in the Exploitation of a Derivative Work) of the the Copyright Act Act of Japan, and and you agree not not to exercise your moral rights against us, our aﬃliates or persons who use the the Suggestions through the consent of us or our our aﬃliates.” (ii) The following sentences are added at the end of of Section 9 9 (Limitation of of Liability): “THE DISCLAIMER OR OR THE DAMAGES CAP CAP IN THIS SECTION MAY NOT BE APPLIED TO DAMAGES CAUSED BY EITHER PARTY’S GROSS NEGLIGENCE OR OR WILLFUL MISCONDUCT IF SUCH DISCLAIMER OR THE DAMAGES CAP CAP ARE DEEMED AGAINST PUBLIC POLICY UNDER ARTICLE 90 OF THE THE CIVIL CODE.  IN IN THAT EVENT, THE THE SCOPE OF THE THE DISCLAIMER SHALL BE NARROWLY CONSTRUED IN SUCH SUCH MANNER AND THE THE DAMAGES CAP MAY MAY BE INCREASED BY BY SUCH MINIMUM AMOUNT SO SO THAT THE THE DISCLAIMER OR OR THE DAMAGES CAP CAP HEREUNDER WOULD NOT BE DEEMED AGAINST PUBLIC POLICY UNDER ARTICLE 90 OF THE CIVIL CODE.” 12. Deﬁnitions. “Acceptable Use Use Policy” means the policy located at http://aws.amazon.c zon.com/aup (and any successor or related locations designated by us), us), as may be be updated by us from time to to time. “Account Country” is the country associated with with your account. If you have have provided a a valid tax tax registration number for your your account, then then your Account Country is the the country associated with with your tax tax registration. If you have not not provided a a valid tax tax registration, then your Account Country is the the country where your billing address is located, except if you have have a credit card card associated with your AWS AWS account that is is issued in a in a diﬀerent country and your your contact address is also in that that country, then then your Account Country is that that diﬀerent country.</Context4>\n",
            "\n",
            "<Context5>We may modify this this Agreement (including any any Policies) at at any time by by posting a a revised version on the AWS Site or or by otherwise notifying you in in accordance with Section 11.10. The modiﬁed terms will become eﬀective upon upon posting or, if if we notify you by by email, as stated in the email message. By By continuing to to use the Services or AWS AWS Content after the eﬀective date date of any any modiﬁcations to to this Agreement, you agree to be be bound by the the modiﬁed terms. It is your responsibility to to check the AWS AWS Site regularly for modiﬁcations to to this Agreement. We last modiﬁed this Agreement on on the date listed at the beginning of of this Agreement. 11. Miscellaneous. 11.1 Assignment. You will not assign or otherwise transfer this this Agreement or or any of your your rights and and obligations under this this Agreement, without our prior written consent. Any assignment or or transfer in in violation of of this Section 11.1 will be void. We may assign this this Agreement without your your consent (a) in in connection with a a merger, acquisition or sale sale of all or or substantially all of our assets, or (b) to any any aﬃliate or as as part of a of a corporate reorganization; and and eﬀective upon such such assignment, the assignee is is deemed substituted for AWS AWS as a party to to this Agreement and AWS is fully released from all all of its its obligations and duties to to perform under this Agreement. Subject to the the foregoing, this this Agreement will will be binding upon, and inure to to the beneﬁt of of the parties and and their respective permitted successors and and assigns. 11.2 Entire Agreement. This This Agreement incorporates the the Policies by by reference and is is the entire agreement between you and us us regarding the the subject matter of this Agreement. This Agreement supersedes all all prior or or contemporaneous representations, understandings, agreements, or or communications between you and us, whether written or verbal, regarding the the subject matter of this Agreement (but does not not supersede prior commitments to to purchase Services such as Amazon EC2 Reserved Instances). We will will not be bound by, and speciﬁcally object to, any any term, condition or other provision that is diﬀerent from or in addition to the the provisions of of this Agreement (whether or not it it would materially alter this this Agreement) including for for example, any any term, condition or other provision (a) (a) submitted by by you in any any order, receipt, acceptance, conﬁrmation, correspondence or or other document, (b) related to any any online registration, response to any any Request for for Bid, Request for Proposal, Request for for Information, or or other questionnaire, or or (c) related to to any invoicing process that you you submit or require us to to complete. If the the terms of this this document are are inconsistent with the terms contained in any any Policy, the the terms contained in this document will control, except that the Service Terms will control over this document. 11.3 Force Majeure. We and our aﬃliates will not be liable for any delay or or failure to to perform any any obligation under this this Agreement where the delay or or failure results from any any cause beyond our reasonable control, including acts of God, labor disputes or other industrial disturbances, electrical or power outages, utilities or other telecommunications failures, earthquake, storms or other elements of nature, blockages, embargoes, riots, acts or orders of of government, acts acts of terrorism, or or war. 11.4 Governing Law. Law. The laws of of the State of of Washington, without reference to conflict of law law rules, govern this Agreement and and any dispute of of any sort that that might arise between you you and us. The The United Nations Convention for the the International Sale of Goods does does not apply to to this Agreement. 11.5 Disputes. Any Any dispute or or claim relating in any way to your your use of the the Service Offerings, or to to any products or or services sold or or distributed by by AWS will be resolved by binding arbitration, rather than in court, except that you may may assert claims in small claims court if your your claims qualify. The The Federal Arbitration Act and and federal arbitration law apply to this this Agreement. There is no judge or jury in in arbitration, and and court review of of an arbitration award is limited. However, an an arbitrator can award on an an individual basis the same damages and relief as a as a court (including injunctive and and declaratory relief or statutory damages), and must must follow the terms of this this Agreement as a as a court would. To begin an an arbitration proceeding, you you must send a a letter requesting arbitration and and describing your your claim to our registered agent Corporation Service Company, 300 300 Deschutes Way Way SW, Suite 304, 304, Tumwater, WA WA 98501. The The arbitration will be conducted by the American Arbitration Association (AAA) under its rules, which are available at www.adr.org or or by calling 1-800-778-7879. Payment of filing, administration and and arbitrator fees fees will be governed by by the AAA's rules. We will reimburse those fees for for claims totaling less than $10,000 unless the the arbitrator determines the the claims are are frivolous. We will not seek seek attorneys' fees and costs in in arbitration unless the the arbitrator determines the the claims are are frivolous. You You may choose to to have the the arbitration conducted by by telephone, based on written submissions, or at at a mutually agreed location. We We and you agree that any dispute resolution proceedings will be be conducted only on on an individual basis and not in a in a class, consolidated or or representative action. If for any any reason a claim proceeds in court rather than in in arbitration we and you waive any right to a jury jury trial. Subject to Section 8.5, we we and you both both agree that you you or we may bring suit in court to to enjoin infringement or or other misuse of of intellectual property rights.fi</Context5>\n",
            "\n",
            "<Context6>*Brazil is your your Account Country only if you you have provided a a valid Brazilian Tax Registration Number (CPF/CNPJ number) for your your account. If If your billing address is located in in Brazil but you you have not not provided a a valid Brazilian Tax Registration Number (CPF/CNPJ number), then then Amazon Web Web Services, Inc. Inc. is the AWS Contracting Party for your account. **See https://aws.amazon. azon.com/legal/aws-e aws-emea-countries for a full list of of EMEA countries. “AWS Marks” means any trademarks, service marks, service or trade names, logos, and and other designations of AWS AWS and its its affiliates that that we may make make available to you in in connection with with this this Agreement. “AWS Site” means http://aws.amazon.c zon.com (and any successor or related locations designated by us), us), as may be be updated by us us from time to to time. “AWS Trademark Guidelines” means the guidelines and and trademark license located at http://aws.amazo amazon.com/trademark emark-guidelines/ (a s/ (and any successor or related locations designated by us), us), as may be be updated by us us from time to to time. “Content” means software (including machine images), data, text, audio, video, or images. “End User” means any individual or or entity that that directly or or indirectly through another user (a) accesses or uses Your Your Content, or or (b) otherwise accesses or uses the Services under your account. The The term “End User” does not include individuals or or entities when when they are are accessing or or using the the Services or any any Content under their own AWS AWS account, rather than under your your account. \"Governing Laws\" and “Governing Courts” mean, for for each AWS AWS Contracting Party, the laws and and courts set set forth in the the following table: South Africa Amazon Web Services South Africa Proprietary Limited 206-266-7010 Wembley Square 2, 2, 134 Solan Road, Gardens, Cape Town, 8001, South Africa South Korea Amazon Web Services Korea LLC\n",
            "N/A L12, East tower, 231, Teheran-ro, Gangnam-gu, Seoul, 06142, Republic of Korea Any country within Europe, the Middle East, or Africa (excluding South Africa) (\"EMEA\")** Amazon Web Web Services EMEA SARL\n",
            "352 2789 0057 38 Avenue John F. F. Kennedy, L-1855, Luxembourg Any country that is is not listed in in this table above. Amazon Web Web Services, Inc. 206-266-7010 410 Terry Avenue North, Seattle, WA WA 98109-5210 U.S.A. AWS Contracting Party Governing Laws Governing Courts Amazon AWS Serviços Brasil Ltda The laws of Brazil The courts of the the City of São São Paulo, State of São Paulo Amazon Web Services Australia Pty Ltd Ltd (ABN: 63 605 345 891) The laws of New New South Wales The courts of New New South Wales Amazon Web Services Canada, Inc. The laws of the the Province of of Ontario, Canada and federal laws of of Canada applicable therein The provincial or or federal courts located in Toronto, Ontario, Canada Amazon Web Services EMEA SARL The laws of the the Grand Duchy of of Luxembourg The courts in the the district of of Luxembourg City Amazon Web Web Services, Inc. The laws of the the State of of Washington The state or or Federal courts in King County, Washington Amazon Web Services India Private Limited (AWS India) The laws of India The courts in New New Delhi, India Amazon Web Services Japan G.K. The laws of Japan The Tokyo District Court</Context6>\n",
            "\n",
            "<Context7>7. Indemnification. 7.1 General. You You will defend, indemnify, and hold hold harmless us, us, our affiliates and licensors, and and each of their respective employees, officers, directors, and representatives from and against any Losses arising out of or relating to any third-party claim concerning: (a) your or any End End Users’ use of of the Services (including any any activities under your AWS AWS account and use use by your your employees and and personnel); (b) (b) breach of this this Agreement or or violation of of applicable law law by you, End Users or or Your Content; or or (c) a dispute between you and any any End User. You You will reimburse us for reasonable attorneys’ fees, as as well as our our employees’ and contractors’ time and materials spent responding to to any third party subpoena or other compulsory legal order or process associated with with third party claims described in in (a) through (c) (c) above at our our then-current hourly rates. 7.2 Intellectual Property. (a) Subject to the the limitations in in this Section 7, 7, AWS will defend you and your your employees, officers, and and directors against any any third-party claim alleging that the Services infringe or or misappropriate that third party’s intellectual property rights, and will pay the the amount of any any adverse final judgment or settlement. (b) Subject to the the limitations in in this Section 7, 7, you will defend AWS, its its affiliates, and and their respective employees, officers, and and directors against any third-party claim alleging that any any of Your Content infringes or or misappropriates that third party’s intellectual property rights, and will pay the the amount of any adverse final judgment or or settlement. (c) Neither party will have have obligations or or liability under this Section 7.2 7.2 arising from from infringement by combinations of of the Services or or Your Content, as applicable, with with any other product, service, software, data, content or method. In addition, AWS AWS will have no no obligations or or liability arising from your your or any End User’s use use of the Services after AWS has has notified you to to discontinue such such use. The The remedies provided in this this Section 7.2 7.2 are the sole sole and exclusive remedies for any third-party claims of of infringement or or misappropriation of intellectual property rights by by the Services or or by Your Content. (d) For any claim covered by Section 7.2(a), AWS will, at its election, either: (i) procure the rights to use use that portion of of the Services alleged to be infringing; (ii) (ii) replace the the alleged infringing portion of the Services with a a non-infringing alternative; (iii) modify the alleged infringing portion of the Services to make it it non-infringing; or (iv) terminate the allegedly infringing portion of the Services or or this Agreement. 7.3 Process. The The obligations under this Section 7 will apply only only if the party seeking defense or or indemnity: (a) (a) gives the other party prompt written notice of the claim; (b) (b) permits the the other party to to control the the defense and and settlement of of the claim; and and (c) reasonably cooperates with the the other party (at (at the other party’s expense) in in the defense and and settlement of of the claim. In no no event will a a party agree to to any settlement of any claim that that involves any any commitment, other than the the payment of of money, without the written consent of the other party. 8. Disclaimers. THE SERVICES AND AND AWS CONTENT ARE ARE PROVIDED “AS “AS IS.” EXCEPT TO TO THE EXTENT PROHIBITED BY LAW, LAW, OR TO THE THE EXTENT ANY ANY STATUTORY RIGHTS APPLY THAT CANNOT BE EXCLUDED, LIMITED OR WAIVED, WE AND OUR OUR AFFILIATES AND AND LICENSORS (A) (A) MAKE NO NO REPRESENTATIONS OR WARRANTIES OF ANY KIND, WHETHER EXPRESS, IMPLIED, STATUTORY OR OR OTHERWISE REGARDING THE SERVICES OR AWS AWS CONTENT OR THE THE THIRD-PARTY CONTENT, AND (B) DISCLAIM ALL ALL WARRANTIES, INCLUDING ANY ANY IMPLIED OR OR EXPRESS WARRANTIES (I) OF OF MERCHANTABILITY, SATISFACTORY QUALITY, FITNESS FOR A PARTICULAR PURPOSE, NON-INFRINGEMENT, OR QUIET ENJOYMENT, (II) ARISING OUT OF OF ANY COURSE OF OF DEALING OR USAGE OF TRADE, (III) THAT THE SERVICES OR AWS AWS CONTENT OR OR THIRD-PARTY CONTENT WILL BE BE UNINTERRUPTED, ERROR FREE OR FREE FREE OF HARMFUL COMPONENTS, AND AND (IV) THAT ANY CONTENT WILL BE BE SECURE OR NOT NOT OTHERWISE LOST LOST OR ALTERED. 9. Limitations of of Liability. WE AND OUR OUR AFFILIATES AND AND LICENSORS WILL WILL NOT BE LIABLE TO YOU FOR ANY ANY INDIRECT, INCIDENTAL, SPECIAL, CONSEQUENTIAL OR OR EXEMPLARY DAMAGES (INCLUDING DAMAGES FOR LOSS OF OF PROFITS, REVENUES, CUSTOMERS, OPPORTUNITIES, GOODWILL, USE, OR OR DATA), EVEN IF A IF A PARTY HAS BEEN ADVISED OF THE THE POSSIBILITY OF OF SUCH DAMAGES. FURTHER, NEITHER WE WE NOR ANY OF OUR OUR AFFILIATES OR OR LICENSORS WILL WILL BE RESPONSIBLE FOR ANY COMPENSATION, REIMBURSEMENT, OR OR DAMAGES ARISING IN CONNECTION WITH: (A) YOUR INABILITY TO USE THE THE SERVICES, INCLUDING AS A AS A RESULT OF ANY (I) (I) TERMINATION OR OR SUSPENSION OF OF THIS AGREEMENT OR YOUR USE OF OR OR ACCESS TO THE THE SERVICES OR AWS AWS CONTENT, (II) (II) OUR DISCONTINUATION OF OF ANY OR ALL OF OF THE SERVICES OR OR AWS CONTENT, OR, OR, (III) WITHOUT LIMITING ANY ANY OBLIGATIONS UNDER THE SERVICE LEVEL AGREEMENTS, ANY ANY UNANTICIPATED OR UNSCHEDULED DOWNTIME OF ALL OR OR A PORTION OF THE THE SERVICES FOR FOR ANY REASON; (B) (B) THE COST OF PROCUREMENT OF OF SUBSTITUTE GOODS OR SERVICES; (C) (C) ANY ANY INVESTMENTS, EXPENDITURES, OR OR COMMITMENTS BY BY YOU IN IN CONNECTION WITH WITH THIS AGREEMENT OR YOUR YOUR USE OF OR OR ACCESS TO THE THE SERVICES OR AWS AWS CONTENT; OR (D) (D) ANY ANY UNAUTHORIZED ACCESS TO, TO, ALTERATION OF, OF, OR THE DELETION, DESTRUCTION, DAMAGE, LOSS OR OR FAILURE TO STORE ANY OF YOUR CONTENT OR OTHER DATA. IN IN ANY CASE, EXCEPT FOR PAYMENT OBLIGATIONS UNDER SECTION 7.2, OUR OUR AND OUR OUR AFFILIATES’ AND AND LICENSORS’ AGGREGATE LIABILITY UNDER THIS THIS AGREEMENT WILL WILL NOT EXCEED THE AMOUNT YOU ACTUALLY PAY US UNDER THIS THIS AGREEMENT FOR FOR THE SERVICE THAT GAVE RISE TO TO THE CLAIM DURING THE 12 MONTHS BEFORE THE LIABILITY AROSE. THE LIMITATIONS IN IN THIS SECTION 9 9 APPLY ONLY TO THE THE MAXIMUM EXTENT PERMITTED BY BY APPLICABLE LAW. 10. Modifications to the Agreement.</Context7>\n",
            "\n",
            "<Context8>“Account Information” means information about you that you you provide to us us in connection with the creation or administration of your AWS AWS account. For example, Account Information includes names, usernames, phone numbers, email addresses and and billing information associated with with your AWS AWS account. “API” means an an application program interface. “AWS Confidential Information” means all nonpublic information disclosed by us, us, our affiliates, business partners, or our or their respective employees, contractors or or agents that is is designated as as confidential or or that, given the the nature of the the information or or circumstances surrounding its its disclosure, reasonably should be be understood to be be confidential. AWS Confidential Information includes: (a) (a) nonpublic information relating to our or or our affiliates or business partners’ technology, customers, business plans, promotional and marketing activities, finances and other business affairs; (b) third-party information that we are obligated to to keep keep confidential; and (c) the nature, content and and existence of of any discussions or negotiations between you and us us or our our affiliates. AWS Confidential Information does does not include any information that: (i) is or or becomes publicly available without breach of this this Agreement; (ii) can be shown by documentation to to have been known to you at the time time of your your receipt from from us; (iii) is is received from a a third party who who did not acquire or disclose the the same by a wrongful or or tortious act; or or (iv) can be be shown by by documentation to to have been been independently developed by you you without reference to the the AWS AWS Confidential Information. “AWS Content” means APIs, WSDLs, sample code, software libraries, command line tools, proofs of concept, templates, advice, information, programs (including credit programs) and any any other Content made available by by us and our our affiliates related to use of of the Services or or on the AWS AWS Site and other related technology (including any of of the foregoing that are provided by our personnel). AWS Content does does not include the Services or or Third-Party Content. \"AWS Contracting Party\" means the the party identified in the the table below, based on your your Account Country. If you you change your your Account Country to one one identified to a different AWS AWS Contracting Party below, you you agree that this this Agreement is is then assigned to to the new AWS AWS Contracting Party under Section 11.1 without any further action required by either party. Account Country AWS Contracting Party Facsimile Mailing Address Australia Amazon Web Services Australia Pty Ltd (ABN: 63 63 605 345 891) N/A Level 37, 2-26 Park Park Street, Sydney, NSW, 2000, Australia Brazil* Amazon AWS Serviços Brasil Ltda. \n",
            "N/A A. Presidente Juscelino Kubitschek, 2.041, Torre E - 18th and and 19th Floors, Vila Nova Conceicao, São São Paulo, Brasil Canada Amazon Web Services Canada, Inc.\n",
            "N/A 120 Bremner Blvd, 26th Floor, Toronto, Ontario, M5J 0A8, 0A8, Canada India Amazon Web Services India Private Limited (formerly known as Amazon Internet Services Private Limited), having its its registered office at Unit Nos. 1401 to to 1421 International Trade Tower, Nehru Place, New New Delhi 110019, India 011-47985609 Unit Nos. 1401 to to 1421 1421 International Trade Tower, Nehru Place, Delhi 110019, India.\n",
            "Japan Amazon Web Services Japan G.K.\n",
            "N/A 1-1, Kamiosaki 3-chome, Shinagawa-ku, Tokyo, 141-0021, Japan Malaysia Amazon Web Services Malaysia Sdn. Bhd.\n",
            "N/A Level 26 & Level 35, The Gardens North Tower, Lingkaran Syed Putra, Mid Mid Valley City, Kuala Lumpur, 59200, Malaysia New Zealand Amazon Web Services New Zealand Limited\n",
            "N/A Level 5, 18 Viaduct Harbour Ave, Auckland, 1010, New New Zealand Singapore Amazon Web Services Singapore Private Limited N/A 23 Church Street, #10-01, Singapore 049481</Context8>\n",
            "\n",
            "<Context9>minor). If you are are entering into into this Agreement for an entity, such such as the company you work for, you you represent to us us that you have have legal authority to bind bind that entity. Please see see Section 12 for for deﬁnitions of of certain capitalized terms used in this this Agreement. Contract is valid for a duration of of 12 months and and will end on on 31st march 2024. 1. AWS Responsibilities 1.1 General. You You may access and and use the the Services in in accordance with with this this Agreement. Service Level Agreements and and Service Terms apply to certain Services. 1.2 Third-Party Content. Third-Party Content may be used by you you at your your election. Third-Party Content is governed by this this Agreement and, and, if applicable, separate terms and and conditions accompanying such such Third-Party Content, which terms and and conditions may may include separate fees and and charges. 1.3 AWS Security. Without limiting Section 8 or your your obligations under Section 2.2, 2.2, we will will implement reasonable and and appropriate measures designed to help you secure Your Your Content against accidental or unlawful loss, access or or disclosure. 1.4 Data Data Privacy. You may specify the AWS AWS regions in in which Your Your Content will will be stored. You You consent to the the storage of Your Your Content in, in, and transfer of of Your Content into, the the AWS regions you you select. We will will not access or or use Your Content except as necessary to maintain or or provide the the Services, or as as necessary to comply with the law law or a binding order of a of a governmental body. We will not not (a) disclose Your Content to any any government or or third party or or (b) move Your Content from the the AWS regions selected by you; you; except in each each case as as necessary to to comply with the the law or a or a binding order of a governmental body. Unless it would violate the the law or a or a binding order of a governmental body, we will give give you notice of of any legal requirement or or order referred to in this Section 1.4. We will only use your your Account Information in in accordance with with the Privacy Notice, and you you consent to such such usage. The The Privacy Notice does not apply to to Your Content. 1.5 Notice of of Changes to the the Services. We We may change or or discontinue any any of the Services from time to time. We will provide you you at least 12 12 months’ prior notice before discontinuing a a material functionality of a of a Service that that you are using, or materially altering a a customer-facing API that you are are using in a backwards-incompati mpatible fashion, except that this notice will not be be required if the the 12 month notice period (a) would pose a security or or intellectual property issue to us or the the Services, (b) (b) is economically or technically burdensome, or (c) (c) would cause us us to violate legal requirements. 1.6 Notice of of Changes to the the Service Level Agreements. We may may change, discontinue or add add Service Level Agreements, provided, however, that we will will provide at least 90 days’ advance notice for for adverse changes to any Service Level Agreement. 2. Your Responsibilities. 2.1 Your Accounts. You will comply with the terms of of this Agreement and all laws, rules and regulations applicable to your your use of the the Services. To To access the Services, you must must have an AWS AWS account associated with a a valid email address and a valid form of payment. Unless explicitly permitted by the the Service Terms, you will only only create one one account per per email address. Except to the the extent caused by our breach of of this Agreement, (a) you are are responsible for for all activities that occur under your your account, regardless of of whether the the activities are are authorized by by you or or undertaken by by you, your your employees or a or a third party (including your contractors, agents or End Users), and and (b) we and our our aﬃliates are are not responsible for unauthorized access to your your account. 2.2 Your Content. You are responsible for Your Content. You will ensure that Your Content and your and End End Users’ use of of Your Content or or the the Services will not violate any of of the Policies or or any applicable law. 2.3 Your Security and Backup. You are are responsible for for properly conﬁguring and and using the the Services and and otherwise taking appropriate action to secure, protect and backup your your accounts and and Your Content in in a manner that that will provide appropriate security and and protection, which might include use of encryption to protect Your Your Content from from unauthorized access and and routinely archiving Your Your Content. 2.4 Log-In Credentials and and Account Keys. AWS log-in credentials and and private keys keys generated by by the Services are are for your your internal use use only and you you will not sell, transfer or or sublicense them them to any other entity or person, except that you may may disclose your your private key to to your agents and and subcontractors performing work on your behalf. 2.5 End Users. You will be deemed to to have taken any any action that you you permit, assist or facilitate any any person or or entity to take take related to to this Agreement, Your Content or use of of the the Services. You are responsible for for End Users’ use use of Your Content and the Services, and for their compliance with with your your obligations under this Agreement. If you you become aware of of any violation of of your obligations under this this Agreement caused by an End End User, you will will immediately suspend access to Your Your Content and and the Services by by such End User. We do not provide any support or or services to End End Users unless we we have a separate agreement with you or an End User User obligating us us to provide such such support or or services. 3. Fees and and Payment. 3.1 Service Fees. We calculate and and bill fees and and charges monthly. We may may bill you more more frequently for for fees accrued if if we suspect that that your account is fraudulent or at at risk of of non-payment. You You will pay us the the applicable fees fees and charges for use of the the Services as as described on the the AWS Site using one of the payment methods we we support. All All amounts payable by you under this this Agreement will will be paid to us us without setoﬀ or or counterclaim, and without any any deduction or withholding. Fees and charges for any new Service or new feature of a of a Service will will be eﬀective when we post post updated fees fees and charges on on the AWS Site, unless we expressly state otherwise in in a notice. We may may increase or add add new fees and and charges for any any existing Services you are are using by giving you at least 30 days’ prior notice. We may elect to to charge you you interest at the the rate of 1.5% 1.5% per month (or (or the highest rate permitted by by law, if less) on on all late late payments.</Context9>\n",
            "\n",
            "\n"
          ]
        }
      ],
      "source": [
        "question = \"What is the governing courts for Amazon Web Services South Africa ProprietaryLimited\"\n",
        "\n",
        "rag_passage = return_RAG_passage(question,embed_index)"
      ]
    },
    {
      "cell_type": "markdown",
      "metadata": {
        "id": "-dlypTmEjq-J"
      },
      "source": [
        "Here we are adding the Question to the formatted RAG chunks before sending it to GPT for analysis"
      ]
    },
    {
      "cell_type": "code",
      "execution_count": null,
      "metadata": {
        "colab": {
          "base_uri": "https://localhost:8080/"
        },
        "id": "a8K2kv5ZVBIs",
        "outputId": "b0664368-e512-4b61-c74b-5a70111be8bf"
      },
      "outputs": [
        {
          "output_type": "stream",
          "name": "stdout",
          "text": [
            "10585\n"
          ]
        }
      ],
      "source": [
        "full_prompt_SD = rag_passage +\"\\n\\n\" +\"<Question> \"+question+\" </Question>\"\n",
        "print(len(token_encoding.encode(full_prompt_SD)))"
      ]
    },
    {
      "cell_type": "code",
      "execution_count": null,
      "metadata": {
        "id": "ohdwwFE9Pj9k"
      },
      "outputs": [],
      "source": [
        "response = CallOpenAI(full_prompt_SD,\"You are a Professional lawyer who can analyse documents thorougly\")"
      ]
    },
    {
      "cell_type": "markdown",
      "metadata": {
        "id": "TQldx1Wrj0_8"
      },
      "source": [
        "Finally we get the correct result and the token count is also less"
      ]
    },
    {
      "cell_type": "code",
      "execution_count": null,
      "metadata": {
        "colab": {
          "base_uri": "https://localhost:8080/"
        },
        "id": "lOMJRKudP_j1",
        "outputId": "33bb78d0-e2e9-4859-d8f3-3334462effc8"
      },
      "outputs": [
        {
          "output_type": "stream",
          "name": "stdout",
          "text": [
            "The governing courts for Amazon Web Services South Africa Proprietary Limited are the South Gauteng High Court in Johannesburg, as specified in the document provided.\n"
          ]
        }
      ],
      "source": [
        "print(response.choices[0].message.content)"
      ]
    },
    {
      "cell_type": "markdown",
      "metadata": {
        "id": "CzFtPvJVRLhn"
      },
      "source": [
        "## Now we try analysing a with large content that we were facing problems with in Lab 0.1"
      ]
    },
    {
      "cell_type": "markdown",
      "source": [
        "### Loading the contents of a PDF and converting them to chunks to form the embeddings"
      ],
      "metadata": {
        "id": "ZZV_AaAZwpso"
      }
    },
    {
      "cell_type": "code",
      "source": [
        "pdf = \"/content/PROFRAC HOLDINGS, LLC credit agreement.pdf\""
      ],
      "metadata": {
        "id": "JTnAEa09wpso"
      },
      "execution_count": null,
      "outputs": []
    },
    {
      "cell_type": "markdown",
      "source": [
        "#### Making the chunks of the document\n",
        "This cell will mainly creates chunks using `RecursiveCharacterTextSplitter()` with `chunk_size` as 20 (20 words), `chunk_overlap` as 5 (5 words will always overlap).\n",
        "\n",
        "In the `For loop` we are going through each page of the document and converting the content of each page to chunks and storing them in an array called the `knowledge_base`.\n",
        "\n",
        "The `knowledge_base` is then converted to embedding indices."
      ],
      "metadata": {
        "id": "stl7UVRewpso"
      }
    },
    {
      "cell_type": "code",
      "source": [
        "knowledge_base = []\n",
        "recursive_splitter = RecursiveCharacterTextSplitter(\n",
        "    chunk_size = 20,\n",
        "    chunk_overlap = 5,\n",
        "    length_function = len\n",
        ")\n",
        "file = fitz.open(pdf) # <------Make changes in the PDF file path that you want to use\n",
        "for page in file:\n",
        "  text = page.get_text()\n",
        "  text = recursive_splitter.split_text(text)\n",
        "  knowledge_base.append(text)\n",
        "\n",
        "print(knowledge_base[:3])"
      ],
      "metadata": {
        "colab": {
          "base_uri": "https://localhost:8080/"
        },
        "outputId": "f0d2fdec-09fc-4116-b169-ea7361ae78ed",
        "id": "KFI_BOvOwpsp"
      },
      "execution_count": null,
      "outputs": [
        {
          "output_type": "stream",
          "name": "stdout",
          "text": [
            "[['EX-10.1 2', '2 d497551dex101.htm', 'EX-10.1', 'Exhibit 10.1', 'Execution Version', 'FOURTH AMENDMENT', 'TO TERM LOAN CREDIT', 'AGREEMENT', 'THIS FOURTH', 'AMENDMENT TO TERM', 'TERM LOAN CREDIT', 'AGREEMENT (this', '“Amendment”), dated', 'as of February 1,', '1, 2023, relating', 'to the', 'Credit Agreement', 'referred to below,', 'is made by and', 'and among PROFRAC', 'HOLDINGS II, LLC, a', 'a Texas limited', 'liability company', '(the “Borrower”),', 'PROFRAC HOLDINGS,', 'LLC, a Texas', 'limited liability', 'company', '(“Holdings”), the', 'the Guarantors', 'party hereto, each', 'each of the', 'the Additional Term', 'Term B Loan', 'Lenders (as defined', 'below), each of the', 'the other Lenders', 'party hereto, as', 'as required, as the', 'the case may be, by', 'by the terms of', 'of this Amendment', 'and the Existing', 'Credit Agreement,', 'and PIPER SANDLER', 'FINANCE LLC, as the', 'the Agent and the', 'the Collateral', 'Agent for the', 'the Lenders.', 'RECITALS', 'WHEREAS, the', 'the Borrower,', 'Holdings the other', 'Obligors from time', 'time to time party', 'thereto, the', 'the Lenders from', 'from time to time', 'time party thereto,', 'the Agent and', 'the Collateral', 'Agent have entered', 'into the Term Loan', 'Loan Credit', 'Agreement, dated as', 'as of March\\xa04,', '2022, as amended by', 'by the First', 'Amendment to Term', 'Term Loan', 'Credit Agreement,', 'dated as of', 'of July\\xa025, 2022,', 'as amended by the', 'the Second', 'Amendment, Consent', 'and Limited Waiver', 'to Term Loan Credit', 'Agreement,', 'dated as of', 'of November\\xa01,', '2022, as amended by', 'by the Third', 'Amendment, Consent', 'and Limited Waiver', 'to Term Loan Credit', 'Agreement, dated as', 'as of', 'December\\xa030, 2022,', 'and as further', 'amended, restated,', 'amended and', 'and restated,', 'extended,', 'supplemented,', 'waived or otherwise', 'modified from time', 'time to time', 'immediately prior', 'to the', 'the effectiveness', 'of this Amendment', '(the “Existing', 'Credit Agreement”,', 'and, as amended by', 'by this Amendment,', 'and as further', 'amended, restated,', 'supplemented or', 'or otherwise', 'modified from time', 'time to time after', 'the effectiveness', 'of this Amendment,', 'the “Credit', 'Agreement”;', 'capitalized terms', 'used and not', 'not otherwise', 'defined herein', 'having the meanings', 'ascribed to them in', 'in the Credit', 'Agreement);', 'WHEREAS, the', 'the Borrower has', 'has requested', 'additional term', 'term loans on the', 'the Fourth', 'Amendment Effective', 'Date (as defined', 'below) in an', 'an aggregate', 'principal amount', 'equal to', 'to $170,000,000 (as', '(as further defined', 'in the Credit', 'Agreement, the', 'the “Additional', 'Term B Loan', 'Loan Commitments”', 'and the additional', 'term loans to be', 'be made pursuant', 'thereto, as further', 'defined in the', 'the Credit', 'Agreement, the', 'the “Additional', 'Term B Loans”);', 'WHEREAS, the', 'the lenders set', 'set forth on', 'on Schedule I', 'I attached hereto', 'have elected to', 'to provide', 'Additional Term B', 'B Loan Commitments', '(any such lender', 'providing an', 'an Additional Term', 'Term B Loan', 'Loan Commitment, as', 'as further defined', 'in the Credit', 'Agreement, an', 'an “Additional Term', 'Term B Loan', 'Loan Lender”; for', 'for the avoidance', 'of doubt, each', 'each Additional', 'Term B Loan Lender', 'not already', 'constituting a', 'a “Lender” under', 'the Credit', 'Agreement, shall', 'each constitute a', 'a “Lender” under', 'the Credit', 'Agreement after the', 'the effectiveness', 'of this Amendment', 'and all Additional', 'Term B Loan Lenders', 'already', 'constituting', 'Lenders prior to', 'to making', 'the Additional Term', 'Term B Loans shall', 'continue to', 'to constitute', 'Lenders under the', 'the Credit', 'Agreement), in each', 'each case and as', 'as the case may be,', 'be, in the amount', 'set', 'forth opposite such', 'such Lender’s name', 'name on Schedule I', 'I hereto;', 'WHEREAS, in', 'in connection', 'therewith, the', 'the Borrower and', 'and the other', 'Obligors have', 'have requested that', 'that the Lenders', 'consent to (i)\\xa0the', 'incurrence of the', 'Additional Term B', 'B Loans and', 'and (ii)\\xa0the', 'amendments to the', 'the Existing Credit', 'Agreement provided', 'for herein;', 'WHEREAS, the', 'the Required', 'Lenders under the', 'the Existing Credit', 'Agreement that are', 'are parties hereto', 'hereby consent to', 'to (i)\\xa0the', 'incurrence of the', 'Additional Term B', 'B Loans and', 'and (ii)\\xa0the', 'amendments to the', 'the Existing Credit', 'Agreement provided', 'for herein, in each', 'each case, subject', 'to the terms and', 'conditions set', 'set forth herein;', 'and'], ['WHEREAS, each', 'each Additional', 'Term B Loan Lender', '(upon its joinder', 'to the Credit', 'Agreement and the', 'the other Loan', 'Loan Documents, as', 'as necessary) not', 'already', 'constituting a', 'a “Lender” under', 'the Credit', 'Agreement prior to', 'to making the', 'the Additional Term', 'Term B Loans,', 'agrees to become a', 'a “Lender” under', 'the Credit', 'Agreement and the', 'the other Loan', 'Loan Documents and', 'and the Additional', 'Term B Loan Lenders', 'agree to provide', 'their Additional', 'Term B Loan', 'Loan Commitments,', 'subject to the', 'the terms and', 'and conditions set', 'set forth herein.', 'NOW THEREFORE, in', 'in consideration of', 'of the premises and', 'and agreements,', 'provisions and', 'and covenants', 'herein contained,', 'the parties hereto', 'hereby', 'covenant and agree', 'as follows:', 'SECTION 1.', '1. Amendments to', 'to the Existing', 'Credit Agreement.', 'Effective as of the', 'the Fourth', 'Amendment Effective', 'Date:', '(a) The Existing', 'Credit Agreement is', 'is hereby amended', 'to (i)\\xa0delete the', 'the stricken text', 'text (indicated', 'textually in the', 'the same manner as', 'as the following', 'example: stricken', 'text or stricken', 'text) and (ii)\\xa0add', 'the', 'double-underlined', 'text (indicated', 'textually in the', 'the same manner as', 'as the following', 'example: double-', 'underlined text or', 'double-underlined', 'text) as set forth', 'in the pages of the', 'the Credit', 'Agreement attached', 'as Exhibit A', 'A hereto. The', 'The foregoing', 'as-amended', 'provisions of the', 'the Existing Credit', 'Agreement are', 'are incorporated', 'herein by this', 'this reference as', 'as if fully set', 'set forth herein.', 'SECTION 2.', '2. Additional Term', 'Term B Loans.', '(a) The Borrower', 'confirms and agrees', 'that it has', 'has requested the', 'the Additional Term', 'Term B Loan', 'Loan Commitments', 'and the Additional', 'Term B Loans to be', 'made pursuant', 'thereto, which', 'Additional Term B', 'B Loan Commitments', 'shall be deemed to', 'to be Term Loan', 'Loan Commitments to', 'to make Term Loans', 'on the same', 'terms as the Term', 'Term Loans funded', 'on the Closing Date', 'Date (including,', 'but not limited to,', 'to, with respect to', 'to amortization of', 'of the Term Loans', 'funded on the', 'the Closing', 'Date; provided that', 'notwithstanding any', 'any other', 'provisions set', 'set forth herein,', 'amortization with', 'with respect to the', 'the Additional Term', 'Term B Loans shall', 'not commence', 'until the end of', 'of the first full', 'full Fiscal Quarter', 'occurring after the', 'the Fourth', 'Amendment Effective', 'Date, subject to', 'to the other', 'provisions', 'applicable to the', 'payment of Term', 'Term Loans set', 'set forth in the', 'the Credit', 'Agreement,', 'including, without', 'limitation, the', 'the provisions of', 'of Section\\xa04.3(e))', 'under the Existing', 'Credit', 'Agreement.', '(b) Each Additional', 'Term B Loan Lender', 'agrees severally', 'and not jointly', '(i)\\xa0that upon the', 'the Fourth', 'Amendment Effective', 'Date and at all', 'all times', 'thereafter, such', 'such Additional', 'Term B Loan Lender', 'will be bound (or', '(or continue to be', 'be bound, as', 'as applicable) by', 'by the provisions', 'of the Credit', 'Agreement and', 'the other Loan', 'Loan Documents and', 'and shall perform', 'all of the', 'the obligations and', 'and have all of the', 'the rights of a', 'of a Lender', 'thereunder,', '(ii)\\xa0(x) to provide', 'the Additional Term', 'Term B Loan', 'Loan Commitment in', 'in the aggregate', 'principal amount', 'equal to the amount', 'set forth opposite', 'its name on', 'Schedule I hereto', 'and (y)\\xa0to make the', 'the Additional Term', 'Term B Loan on the', 'the Fourth', 'Amendment Effective', 'Date in the', 'the aggregate', 'principal amount', 'equal to the', 'amount of its', 'its Additional Term', 'Term B Loan', 'Loan Commitment,', 'and, in each case,', 'when made, such', 'such Additional', 'Term B Loans shall', 'be added to and', 'and constitute a', 'part of the', 'the outstanding', 'Term Loans under', 'the Credit', 'Agreement.', '(c) Upon the making', 'of the Additional', 'Term B Loans', 'hereunder, the', 'the Agent shall', 'promptly update the', 'the Register to', 'to give effect to', 'to the Additional', 'Term', 'B Loans.', '(d) The Additional', 'Term B Loans shall', 'be made as a single', 'borrowing, with an', 'an initial Interest', 'Period that', 'that commences on', 'on the Fourth', 'Amendment', 'Effective Date and', 'and ends on the', 'the last day of the', 'the Interest Period', 'applicable to the', 'the outstanding', 'Term Loans on the', 'the Fourth', 'Amendment Effective', 'Date.', 'During the initial', 'Interest Period', 'applicable to the', 'the Additional Term', 'Term B Loans', 'immediately after', 'the Additional Term', 'Term B Loans are', 'are deemed made on', 'on the', 'Fourth Amendment', 'Effective Date as', 'as SOFR Rate Loans,', 'the Adjusted Term', 'Term SOFR', 'SOFR applicable to', 'to the Additional', 'Term B Loans shall', 'be the same', 'Adjusted Term SOFR', 'SOFR applicable for', 'for the outstanding', 'SOFR Rate Loans as', 'as of the Fourth', 'Amendment Effective', 'Date.', '2'], ['Notwithstanding', 'anything to the', 'the contrary', 'contained herein or', 'or in the Credit', 'Agreement, from and', 'and after the', 'the Fourth', 'Amendment Effective', 'Date, the', 'outstanding Term', 'Term Loans, the', 'the Additional Term', 'Term B Loans and', 'and the Delayed', 'Draw Term B Loans', 'shall constitute a', 'a single Class\\xa0and', 'a single borrowing', 'of', 'Term Loans for all', 'all purposes under', 'the Credit', 'Agreement.', '(e) The Additional', 'Term B Loan', 'Loan Commitments of', 'of the Additional', 'Term B Loan Lenders', 'shall terminate', 'upon the making of', 'of the Additional', 'Term B', 'Loans on the Fourth', 'Amendment Effective', 'Date.', '(f) Each Additional', 'Term B Loan Lender', '(i)\\xa0confirms that a', 'a copy of the', 'the Credit', 'Agreement and the', 'the other', 'applicable Loan', 'Loan Documents,', 'together with', 'copies of the', 'the financial', 'statements referred', 'to therein and such', 'such other', 'documents and', 'and information as', 'as it has deemed', 'appropriate to make', 'make its own credit', 'analysis and', 'and decision to', 'to enter into this', 'this Amendment and', 'and make its', 'its portion of the', 'the Additional Term', 'Term B Loans, have', 'have been made', 'made available to', 'to such Additional', 'Term B Loan Lender;', '(ii)\\xa0appoints and', 'and authorizes the', 'the Agent to take', 'take such action as', 'as agent on its', 'its behalf and to', 'to exercise such', 'such powers under', 'the Credit', 'Agreement and the', 'the other Loan', 'Loan Documents as', 'as are delegated to', 'to the Agent, as', 'as the case may be,', 'be, by the terms', 'thereof, together', 'with such powers as', 'as are', 'reasonably', 'incidental thereto;', 'and', '(iii)\\xa0acknowledges', 'and agrees that', 'that upon the', 'the Fourth', 'Amendment Effective', 'Date such', 'such Additional', 'Term B Loan Lender', 'shall be (or shall', 'continue to be, as', 'as applicable) a', 'a “Lender” under,', 'and for all', 'all purposes of,', 'of, the Credit', 'Agreement and the', 'the other Loan', 'Loan Documents, and', 'and shall', 'be subject to and', 'and bound by the', 'the terms hereof', 'and thereof, and', 'and shall perform', 'all the obligations', 'of and shall have', 'have all rights of', 'of a Lender', 'hereunder and', 'thereunder. Each', 'Each Additional', 'Term B Loan Lender', 'confirms that', 'that (A)\\xa0it meets', 'all the', 'the requirements to', 'to be a Lender', 'under the Credit', 'Agreement,', '(B) it is an', 'an Eligible', 'Assignee and (C)\\xa0it', 'is not a', 'a Disqualified', 'Lender or an', 'an Affiliate', 'thereof.', 'SECTION 3.', '3. Conditions to', 'to Effectiveness.', 'This Amendment', 'shall become', 'effective on the', 'the first date', 'date when, and only', 'only when, each of', 'of the conditions', 'set forth below', 'shall have been', 'been satisfied or', 'or waived in', 'in accordance with', 'with the terms', 'herein (such date,', 'the “Fourth', 'Amendment Effective', 'Date”):', '(a) the Agent shall', 'have received duly', 'duly executed', 'counterparts of', 'of this Amendment', 'by the Borrower,', 'Holdings, the', 'the Guarantors, the', 'the Additional Term', 'B Loan Lenders and', 'and the Lenders', 'constituting', 'Required Lenders', 'under the Existing', 'Credit Agreement as', 'as required hereby', 'and pursuant to the', 'the Credit', 'Agreement;', '(b) the Lenders', 'shall have received', 'a duly executed', 'copy of that', 'that certain Fourth', 'Amendment Fee', 'Fee Letter (the', '(the “Fourth', 'Amendment Fee', 'Fee Letter”),', 'dated as of the', 'the Fourth', 'Amendment Effective', 'Date, by and', 'and between the', 'the Borrower and', 'and the Agent;', '(c) the Agent shall', 'have received all', 'all fees and', 'and amounts due and', 'and payable on or', 'or prior to the', 'the Fourth', 'Amendment Effective', 'Date to the extent', 'invoiced', 'at least two', 'two (2)\\xa0Business', 'Days prior to the', 'the Fourth', 'Amendment Effective', 'Date, including', 'reimbursement or', 'or payment of all', 'all reasonable and', 'and documented or', 'invoiced', 'out-of-pocket costs', 'and expenses', 'associated with', 'with this', 'this Amendment,', 'with such costs and', 'and expenses to be', 'be limited to the', 'the Attorney Costs;', '(d) the', 'the representations', 'and warranties set', 'set forth in this', 'this Amendment or', 'or any other Loan', 'Loan Document shall', 'be true and correct', 'in all material', 'respects', '(and any', 'any representation', 'and warranty that', 'that is qualified', 'as to materiality', 'or Material Adverse', 'Effect shall be', 'be true and correct', 'in all respects)', 'after giving', 'effect to this', 'this Amendment,', 'except to the', 'the extent that', 'that such', 'representations and', 'and warranties', 'specifically refer', 'to an earlier date,', 'in which case they', 'they shall be', 'true and correct in', 'in all material', 'respects (and any', 'any representation', 'and warranty that', 'that is qualified', 'as to materiality', 'or Material Adverse', 'Effect shall be', 'be true', 'and correct in all', 'all respects) as of', 'of such earlier', 'date;', '3']]\n"
          ]
        }
      ]
    },
    {
      "cell_type": "markdown",
      "source": [
        "### This cell takes in the knowledge base and creates index/db of the embeddings\n",
        "k_base is an array of chunks taken from a document\n",
        "\n",
        "So, `encoder.encode(k_base)` will convert these chunks into continuous vectors\n",
        "\n",
        "The vectors are flattened in a single row array using `vectors.shape[1]`\n",
        "\n",
        "Using `index = faiss.IndexFlatL2(vector_dimension)` Eucledian L2 distance the `faiss` vector is created.\n",
        "\n",
        "Index is normalized to be within the range of 0-1 using `faiss.normalize_L2(vectors)`"
      ],
      "metadata": {
        "id": "CMVdhxU3ww7v"
      }
    },
    {
      "cell_type": "code",
      "source": [
        "vectors = encoder.encode(knowledge_base)\n",
        "vector_dimension = vectors.shape[1]\n",
        "embed_index = faiss.IndexFlatL2(vector_dimension)\n",
        "faiss.normalize_L2(vectors)\n",
        "embed_index.add(vectors)"
      ],
      "metadata": {
        "id": "tfxWdwVZww76"
      },
      "execution_count": null,
      "outputs": []
    },
    {
      "cell_type": "code",
      "source": [
        "print(embed_index)"
      ],
      "metadata": {
        "colab": {
          "base_uri": "https://localhost:8080/"
        },
        "outputId": "c0d0f001-4fe6-49e2-a622-3b774f11cf41",
        "id": "Z4F-i0Gjww76"
      },
      "execution_count": null,
      "outputs": [
        {
          "output_type": "stream",
          "name": "stdout",
          "text": [
            "<faiss.swigfaiss_avx2.IndexFlatL2; proxy of <Swig Object of type 'faiss::IndexFlatL2 *' at 0x7a43c4df3de0> >\n"
          ]
        }
      ]
    },
    {
      "cell_type": "markdown",
      "metadata": {
        "id": "tPVJUE-wkcOl"
      },
      "source": [
        "## Just like before we are formatting the RAG chunks to be included in the `<Context>` tag"
      ]
    },
    {
      "cell_type": "code",
      "execution_count": null,
      "metadata": {
        "colab": {
          "base_uri": "https://localhost:8080/"
        },
        "id": "oEPSbyBnRT2X",
        "outputId": "de75b878-f58c-4ddc-f72c-97c5ec7a24e4"
      },
      "outputs": [
        {
          "output_type": "stream",
          "name": "stdout",
          "text": [
            "10\n",
            "<Context0>7.23  FCPA\n",
            "   118 7.24  Sanctioned Persons 118 7.25  Designation of Senior Debt 118 7.26  Insurance 118 7.27  FTS Assets 118 ARTICLE VIII AFFIRMATIVE AND AND NEGATIVE COVENANTS 8.1   Taxes 118 8.2   Legal Existence and Good Good Standing 119 8.3   Compliance with Law; Law; Maintenance of of Licenses 119 8.4   Maintenance of Property, Inspection 119 8.5   Insurance 120 8.6   Environmental Laws 121 8.7   Compliance with ERISA 121 8.8   Dispositions 121 8.9   Mergers, Consolidations, etc 121 8.10  Distributions 122 8.11  Investments 126 \n",
            "8.12  Debt 126 8.13  Prepayments of Debt 130 8.14  Transactions with Affiliates 131 8.15  Business Conducted 134 \n",
            "8.16  Liens 134 8.17  Restrictive Agreements 134 8.18  Restrictions on FTS Acquisition Transactions 136 8.19  Fiscal Year; Accounting 136 8.20  Financial Covenants 137 8.21  Information Regarding Collateral 138 8.22  Ratings 138 8.23  Additional Obligors; Covenant to Give Security 138 8.24  Use of of Proceeds 140 8.25  Further Assurances 140 8.26  Designation of Subsidiaries; Monarch Subsidiary; REV Energy Entities 140 8.27  Passive Holding Company; Etc 143 8.28  Amendments to to Certain Documents 145 8.29  Certain Post-Closing Obligations 146 \n",
            "ARTICLE IX CONDITIONS OF OF LENDING 9.1   Conditions Precedent to to Effectiveness of of Agreement and and Making of Term Term Loans on the the Closing Date 146 \n",
            "ARTICLE X DEFAULT; REMEDIES 10.1  Events of of Default 149 10.2  Remedies 152 10.3  Application of Funds 153 10.4  Permitted Holders’ Right to to Cure 154 \n",
            " \n",
            "- iii -</Context0>\n",
            "\n",
            "<Context1>14.21 Acknowledgement and and Consent to to Bail-In of of Affected Financial Institutions.. (a) Notwithstanding anything to the the contrary in any any Loan Document or in any other agreement, arrangement or or understanding among any such parties, each each party hereto acknowledges that that any liability of any Affected Financial Institution arising under any Loan Loan Document, to to the extent such liability is is unsecured, may may be subject to to the write-down and conversion powers of the the applicable Resolution Authority and and agrees and and consents to, to, and acknowledges and and agrees to be be bound by: (i) the application of any Write-Down and Conversion Powers by the the applicable Resolution Authority to any any such such liabilities arising hereunder which may may be payable to to it by any party hereto that is an an Affected Financial Institution; and (ii) the effects of of any Bail-In Action on any such such liability, including, if if applicable: (A) a reduction in in full or in part part or or cancellation of of any such such liability; (B) a conversion of of all, or a or a portion of, of, such liability into shares or or other instruments of of ownership in in such Affected Financial Institution, its its parent undertaking, or a or a bridge institution that that may be issued to it or otherwise conferred on it, it, and that such such shares or other instruments of ownership will will be accepted by by it in lieu of of any rights with with respect to any any such liability under this this Agreement or any other Loan Loan Document; or (C) the variation of the terms of of such liability in connection with with the exercise of the write-down and conversion powers of the applicable Resolution Authority. 14.22 Acknowledgement Regarding Any Any Supported QFCs. To the extent that that the Loan Loan Documents provide support, through a guarantee or otherwise, for for hedge agreements or any any other agreement or instrument that that is a QFC (such support, “QFC “QFC Credit Support” and each each such QFC a “Supported QFC”), the parties acknowledge and and agree as as follows with with respect to the the resolution power of the the Federal Deposit Insurance Corporation under the Federal Deposit Insurance Act and and Title II of the the Dodd-Frank Wall Wall Street Reform and Consumer Protection Act Act (together with the the regulations promulgated thereunder, the the “U.S. Special Resolution Regimes”) in in respect of such such Supported QFC QFC and QFC Credit Support (with the the provisions below applicable notwithstanding that the Loan Loan Documents and and any Supported QFC may in fact be be stated to be be governed by the laws of the the State of New New York and/or of of the United States or any other state of the United States): (a) In the event a a Covered Entity that is party to a to a Supported QFC QFC (each, a a “Covered Party”) becomes subject to to a proceeding under a U.S. Special Resolution Regime, the the transfer of of such Supported QFC and the benefit of such QFC Credit Support (and any any interest and and obligation in in or under such Supported QFC QFC and such QFC QFC Credit Support, and any rights in in property securing such such Supported QFC QFC or such QFC QFC Credit Support) from such Covered Party will will be effective to the same extent as the transfer would be effective under the U.S. U.S. Special Resolution Regime if the Supported QFC and such QFC Credit Support (and any any such interest, obligation and and rights in in property) were were governed by by the laws -180-</Context1>\n",
            "\n",
            "<Context2>“FTS Control Agreements” means (i) that certain Uncertificated Stock Control Agreement, dated as as of the date date hereof, among Farris Wilks, and the the Collateral Agent, for the the benefit of the the Secured Parties, as may be be amended, restated, amended and restated, supplemented or or otherwise modified from time time to time, and and (ii) that certain Uncertificated Stock Control Agreement, dated as as of the date date hereof, among THRC Holdings, LP, LP, and the Collateral Agent, for the the benefit of the the Secured Parties, as may be be amended, restated, amended and restated, supplemented or or otherwise modified from time to time. “FTS Distribution and Contribution Transaction” means the distribution by by Holdings of the the Stock of FTS to to ProFrac PubCo or or other members of Holdings (and the redemption by Holdings of its its Stock from such such Persons in in exchange therefor) followed (substantially simultaneously) by the contribution (automatically and and through no no further action of any Person) of of all or or substantially all of the property and assets of FTS FTS and its subsidiaries (including any any Stock owned by by FTS or any of of its subsidiaries but, for the the avoidance of of doubt, not not including the the Stock issued by by FTS or any Stock issued by by Holdings to FTS FTS in connection therewith) to to Holdings, followed (substantially simultaneously) by by the contribution (automatically and through no further action of any any Person) of such such property and and assets of FTS FTS and its its subsidiaries (including any any Stock owned by by FTS or any of of its subsidiaries but but excluding any any cash cash contributed and/or transferred to Holdings by FTS FTS and/or the FTS FTS Subsidiaries in in connection therewith in an aggregate amount not to exceed the the then then outstanding principal amount (and any interest accrued thereon) of of the Closing Date Date Note) by by Holdings to the Borrower which may may be further contributed by the the Borrower to a to a Guarantor (other than than Holdings). FTS FTS Services will will then then distribute the the Stock of FTS Manufacturing held held by it to the the Borrower. “FTS Pledge Agreements” means the pledge agreements, each each dated as of of the date hereof, by each of the the investors holding interests in the Stock of FTS FTS immediately after the the consummation of of the FTS FTS Acquisition in in favor of the the Agent. “FTS Pledgor” means any grantor under any FTS Pledge Agreement or FTS FTS Control Agreement. “FTS Subsidiaries” means FTS FTS International Services, LLC and and FTS FTS International Manufacturing, LLC. “Full Payment” or or “Full Payment of of the Obligations” means, with respect to any Obligations (other than than contingent indemnification obligations or or other contingent obligation for for which no claim has been made or or asserted, Hedge Obligations not not then due and and payable, if if any, and Cash Management Obligations not not then due and and payable, if if any), (a) the the full cash cash payment thereof, including any interest, fees fees and other charges accruing during an an Insolvency Proceeding (whether or not allowed in in the proceeding) and (b) the termination or or expiration of of all Term Loan Loan Commitments. “Funding Date” means the date on on which a a Borrowing occurs. “GAAP” means generally accepted accounting principles and and practices set set forth from time time to time in the the opinions and and pronouncements of the Accounting Principles Board and the American Institute of of Certified Public Accountants and and statements and and pronouncements of the Financial Accounting Standards Board (or (or agencies with with similar functions of of comparable stature and and authority within the U.S. U.S. accounting profession), which are applicable to the the circumstances from time to time. -42-</Context2>\n",
            "\n",
            "<Context3>14.12 Final Agreement. This This Agreement and and the other Loan Loan Documents are are intended by the the parties hereto to be the final, complete, and exclusive expression of the the agreement between them with with respect to the the subject matter hereof and thereof. This Agreement supersedes any and and all prior oral or or written agreements relating to the subject matter hereof. 14.13 Counterparts; Facsimile Signatures. This This Agreement may may be executed in in any number of of counterparts, and by the Agent, the Collateral Agent, each Lender and the Borrower in in separate counterparts, each each of which shall be an original, but but all of which shall together constitute one and the same same agreement; signature pages may may be detached from multiple separate counterparts and and attached to a to a single counterpart so that that all signature pages are are physically attached to the the same document. This Agreement and and the other Loan Loan Documents may may be executed by by facsimile or other electronic communication and and the the effectiveness of this Agreement and the other Loan Loan Documents and and signatures thereon shall have have the same force and effect as as manually signed originals and shall be binding on all all parties thereto. The Agent may require that that any such such documents and signatures be be confirmed by a a manually-signed original thereof, provided that the the failure to to request or or deliver the same same shall not not limit the effectiveness of of any facsimile signature or or signature delivered electronically. 14.14 Captions. The The captions contained in this this Agreement are are for convenience of reference only, are without substantive meaning and should not be construed to to modify, enlarge, or restrict any any provision. 14.15 Right of of Setoff. In In addition to any any rights and and remedies of the the Lenders provided by Law, if if an Event of of Default is then then continuing or or the Term Loans have have been been accelerated prior to the Stated Termination Date, each Lender is is authorized at at any time and and from time to to time, without prior notice to the the Borrower or any any Guarantor, any any such notice being waived by each Obligor to to the fullest extent permitted by by Law, to set off off and apply any any and all all deposits (general or or special, time or or demand, provisional or final) at any time time held by, and and other indebtedness at any any time owing by, by, such Lender or or any Affiliate of of such Lender to to or for the the credit or the account of the the Borrower or any any Guarantor against any and all all Obligations then due and owing by an Obligor under this Agreement or or any other Loan Document to to such Lender, now now or hereafter existing, irrespective of of whether or not not the Agent or or such Lender shall have made made demand under this Agreement or or any Loan Loan Document. Each Each Lender agrees promptly to notify the Borrower and and the Agent after any such set-off and application made by such such Lender; provided, however, that the failure to to give such notice shall not affect the validity of of such set-off and and application. NOTWITHSTANDING THE THE FOREGOING, NO NO LENDER SHALL EXERCISE ANY RIGHT OF SET-OFF, BANKER’S LIEN, OR OR THE LIKE AGAINST ANY DEPOSIT ACCOUNT OR PROPERTY OF THE BORROWER OR OR ANY GUARANTOR HELD OR MAINTAINED BY SUCH LENDER WITHOUT THE THE PRIOR WRITTEN CONSENT OF THE THE REQUIRED LENDERS. 14.16 Confidentiality. Each Lender and the the Agent severally agrees to treat confidentially and and not publish, disclose or or otherwise divulge any non-public information provided to any of of them or any of of their Affiliates by or on behalf of of Holdings, the the Borrower or any any of their respective Subsidiaries or in in connection with with this this Agreement, the the other Loan Loan Documents or or the the Transactions; provided that that nothing herein shall prevent such Person from\n",
            " \n",
            "-177-</Context3>\n",
            "\n",
            "<Context4>Notwithstanding anything to the the contrary contained herein or or in the Credit Agreement, from and and after the the Fourth Amendment Effective Date, the outstanding Term Term Loans, the the Additional Term Term B Loans and and the Delayed Draw Term B Loans shall constitute a a single Class and a single borrowing of Term Loans for all all purposes under the Credit Agreement. (e) The Additional Term B Loan Loan Commitments of of the Additional Term B Loan Lenders shall terminate upon the making of of the Additional Term B Loans on the Fourth Amendment Effective Date. (f) Each Additional Term B Loan Lender (i) confirms that a a copy of the the Credit Agreement and the the other applicable Loan Loan Documents, together with copies of the the financial statements referred to therein and such such other documents and and information as as it has deemed appropriate to make make its own credit analysis and and decision to to enter into this this Amendment and and make its its portion of the the Additional Term Term B Loans, have have been made made available to to such Additional Term B Loan Lender; (ii) appoints and and authorizes the the Agent to take take such action as as agent on its its behalf and to to exercise such such powers under the Credit Agreement and the the other Loan Loan Documents as as are delegated to to the Agent, as as the case may be, be, by the terms thereof, together with such powers as as are reasonably incidental thereto; and (iii) acknowledges and agrees that that upon the the Fourth Amendment Effective Date such such Additional Term B Loan Lender shall be (or shall continue to be, as as applicable) a a “Lender” under, and for all all purposes of, of, the Credit Agreement and the the other Loan Loan Documents, and and shall be subject to and and bound by the the terms hereof and thereof, and and shall perform all the obligations of and shall have have all rights of of a Lender hereunder and thereunder. Each Each Additional Term B Loan Lender confirms that that (A) it meets all the the requirements to to be a Lender under the Credit Agreement, (B) it is an an Eligible Assignee and (C) it is not a a Disqualified Lender or an an Affiliate thereof. SECTION 3. 3. Conditions to to Effectiveness. This Amendment shall become effective on the the first date date when, and only only when, each of of the conditions set forth below shall have been been satisfied or or waived in in accordance with with the terms herein (such date, the “Fourth Amendment Effective Date”): (a) the Agent shall have received duly duly executed counterparts of of this Amendment by the Borrower, Holdings, the the Guarantors, the the Additional Term B Loan Lenders and and the Lenders constituting Required Lenders under the Existing Credit Agreement as as required hereby and pursuant to the the Credit Agreement; (b) the Lenders shall have received a duly executed copy of that that certain Fourth Amendment Fee Fee Letter (the (the “Fourth Amendment Fee Fee Letter”), dated as of the the Fourth Amendment Effective Date, by and and between the the Borrower and and the Agent; (c) the Agent shall have received all all fees and and amounts due and and payable on or or prior to the the Fourth Amendment Effective Date to the extent invoiced at least two two (2) Business Days prior to the the Fourth Amendment Effective Date, including reimbursement or or payment of all all reasonable and and documented or invoiced out-of-pocket costs and expenses associated with with this this Amendment, with such costs and and expenses to be be limited to the the Attorney Costs; (d) the the representations and warranties set set forth in this this Amendment or or any other Loan Loan Document shall be true and correct in all material respects (and any any representation and warranty that that is qualified as to materiality or Material Adverse Effect shall be be true and correct in all respects) after giving effect to this this Amendment, except to the the extent that that such representations and and warranties specifically refer to an earlier date, in which case they they shall be true and correct in in all material respects (and any any representation and warranty that that is qualified as to materiality or Material Adverse Effect shall be be true and correct in all all respects) as of of such earlier date; 3</Context4>\n",
            "\n",
            "<Context5>Notwithstanding anything to the the contrary herein, for for purposes of of calculating Consolidated EBITDA, the the Non-Wholly Owned Subs shall not be included in in such such calculation; provided that that without duplication, any any cash cash Distributions by any Non-Wholly Owned Sub to a to a Restricted Subsidiary during a Test Test Period shall constitute Consolidated Net Net Income of such such Restricted Subsidiary (receiving such such cash cash Distribution) during such Test Test Period for purposes of of measuring Consolidated EBITDA hereunder. “Consolidated Net Net Income” means, with respect to any any Person for any any period, without duplication, the the aggregate of of (a) the Net Net Income, attributable to to such Person and and its Restricted Subsidiaries for for such period, on on a consolidated basis, and and otherwise determined in in accordance with with GAAP (adjusted to to exclude the the equity interests in any any Unrestricted Subsidiary owned by by such Person or or any of its its Restricted Subsidiaries); plus plus (b) the amount of distributions received in cash by by such Person or or any of its its Restricted Subsidiaries from from any Subsidiary (including any any Unrestricted Subsidiary) for such period, to the the extent not not already included in clause (a) above minus (c) (i) the the cumulative effect of a change in accounting principles and and changes as a result of the the adoption or or modification of of accounting policies during such period, (ii) the income (or (or loss) of any any Person (other than a Restricted Subsidiary of such such Person) in in which any other Person (other than than such Person or or any of its its Restricted Subsidiaries) has a a joint interest, except to the extent of the the amount of of dividends or or other distributions actually paid to to such Person or or any of its its Restricted Subsidiaries by by such Person during such period, (iii) the income (or loss) of of any Person accrued prior to to the date it it becomes a a Restricted Subsidiary of such such Person or is is merged into or consolidated with with such Person or or any of its its Restricted Subsidiaries or or that Person’s assets are acquired by such Person or or any of its its Restricted Subsidiaries (except as may be be required in in connection with with the the calculation of of a covenant or or test on a pro pro forma basis), (iv) the income of of any Restricted Subsidiary of such such Person to the the extent that the the declaration or or payment of of dividends or or similar distributions by by that Restricted Subsidiary of that that income is not at the time time permitted by by operation of the the terms of its its charter or any any agreement, instrument, judgment, decree, order, statute, rule or or governmental regulation applicable to that that Restricted Subsidiary, (v) any after-Tax gains or or losses attributable to to Dispositions of of Property permitted under this Agreement, in each each case other than in the the ordinary course of business (as (as determined in in good faith by by the Borrower) or or returned surplus assets of any Pension Plan, (vi) (vi) any net net after-Tax gains or losses from from disposed, abandoned, transferred, closed or discontinued operations and any any net after-Tax gains or losses on on disposal of of disposed, abandoned, transferred, closed or discontinued operations, (vii) any losses and expenses with with respect to to liability or casualty events to to the extent covered by by insurance or or indemnification and actually reimbursed or so so long as the the Borrower has has made a a determination that there exists reasonable evidence that such amount will in fact be be reimbursed by by the insurer or or indemnifying party and only to to the extent that that such amount is (a) not denied by the the applicable carrier or or indemnifying party in writing within 180 days and and (b) in fact fact reimbursed within 365 days of of the date of such such evidence (with a deduction for any any amount so added back to the extent not so reimbursed within 365 days) and (viii) (to the the extent not included in in sub-clauses (i) through (vii) above) any net net extraordinary gains or net net extraordinary losses. In addition, to the the extent not not already accounted for in in the Consolidated Net Income of such such Person and its its Restricted Subsidiaries, notwithstanding anything to the the contrary in the the foregoing, Consolidated Net Net Income shall include (without duplication) (i) the amount of of proceeds received during such period from from business interruption insurance in in respect of of insured claims for such period, (ii) the amount of of proceeds as to to which the Borrower has has determined there is reasonable evidence it will be be reimbursed by by the insurer in in respect of such such period from from business interruption insurance (with a deduction for any amounts so so added back to to the extent denied by the the applicable carrier in writing within 180 days or or not so so reimbursed within 365 days) and (iii) reimbursement ements received of any any expenses and and charges that that are covered by by indemnification or other reimbursement provisions in connection with any any Permitted Investment or any any sale, conveyance, transfer or other disposition of of assets permitted hereunder. -24-</Context5>\n",
            "\n",
            "<Context6>provisions of this this Article XIII XIII (other than than Sections 13.9, 13.10(a) and and 13.10(b)) are are solely for the the benefit of the the Appointed Agents and the the Lenders, and the Borrower shall have no no rights as third party beneficiaries of any of the the provisions contained herein. Notwithstanding any any provision to to the contrary contained elsewhere in this this Agreement or or in any other Loan Document, each each Appointed Agent shall not not have any duties or responsibilities, except those expressly set forth herein, nor shall any Appointed Agent have or be deemed to have any any fiduciary relationship with any Lender, and no no implied covenants, functions, responsibilities, duties, obligations or liabilities shall be read into into this Agreement or any other Loan Document or or otherwise exist against any any Appointed Agent. Without limiting the the generality of of the foregoing sentence, the use use of the term “agent” in this this Agreement with with reference to to any Appointed Agent is not not intended to to connote any any fiduciary or or other implied (or express) obligations arising under agency doctrine of of any applicable law. Instead, such such term is used used merely as a as a matter of of market custom, and is intended to to create or reflect only an an administrative relationship between independent contracting parties. Except as as expressly otherwise provided in this Agreement (including any any required consent or or direction from from the Required Lenders), each each Appointed Agent shall have have and may use use its sole sole discretion with respect to to exercising or or refraining from from exercising any any discretionary rights or taking or or refraining from from taking any any actions which such Appointed Agent is expressly entitled to take or or assert under this Agreement and and the other Loan Loan Documents, including the the exercise of of remedies pursuant to Section 10.2, and and any action so so taken or not not taken shall be be deemed consented to by the Lenders. 13.2 Delegation of of Duties. Each Each Appointed Agent may execute any of its duties under this this Agreement or or any other Loan Loan Document by or through agents, employees or attorneys-in-fact and shall be be entitled to to advice of of counsel concerning all all matters pertaining to such such duties. Each Appointed Agent shall not be be responsible for for the negligence or misconduct of of any agent or or attorney in fact fact that it it selects as long long as such such selection was made without gross negligence, bad faith or or willful misconduct. 13.3 Liability of of Appointed Agents. None of the the Agent-Related Persons shall (a) be liable for for any action taken or omitted to to be taken by any of them under or in in connection with with this Agreement or any other Loan Loan Document or or the transactions contemplated hereby (except for its own gross negligence, bad faith or or willful misconduct (as (as determined by a by a court of of competent jurisdiction in a in a final and and non-appealable decision)), (b) be responsible in in any manner to to any of the the Lenders for any any recital, statement, representation or or warranty made by by any Obligor or or any Subsidiary or Affiliate of any any Obligor, or any any officer thereof, contained in this Agreement or in any other Loan Document, or or in any any certificate, report, statement or other document referred to or provided for for in, or received by any Appointed Agent under or in in connection with, this Agreement or any other Loan Loan Document, or or the validity, effectiveness, genuineness, enforceability or or sufficiency of of this Agreement or any other Loan Document, or the the perfection or or priority of any any Lien or or security interest created or or purported to be be created under the Collateral Documents, or for any failure of any any Obligor or any any other party to to any Loan Loan Document to to perform its its obligations hereunder or or thereunder or or (c) be responsible or have any liability for, or have any any duty to to ascertain, inquire into, monitor or enforce, compliance with the the provisions hereof relating to Disqualified Lenders; further, without limiting the generality of of the foregoing clause (c), no no Agent-Related Person shall (x) be obligated to ascertain, monitor or inquire as to to whether any any Lender or or Participant or or prospective Lender or or Participant is a is a Disqualified Lender or (y) have any liability with with respect to or or arising out of of any assignment or participation of of Term Loans, or or disclosure of of confidential information (subject in all respects to to Section 14.16), to any Disqualified Lender. No No Agent-Related Person shall be be under any any obligation to to any Lender to to ascertain or to inquire as to the the observance or or performance of of any of the the agreements contained in, or or conditions of, of, this Agreement or any other Loan Loan Document, or to inspect the the properties, books or records of of any Obligor or or any of their Subsidiaries or or Affiliates. -161-</Context6>\n",
            "\n",
            "<Context7>7.2 Validity and and Priority of of Security Interest. Upon Upon execution and and delivery thereof by the the parties thereto, the the applicable Security Documents will be effective to create legal and and valid first priority Liens on on all the the Collateral (other than with with respect to the the Current Asset Collateral, in in which the applicable Security Documents will be effective to create legal and and valid second priority Liens in in favor of the the Collateral Agent for the the benefit of the Secured Parties) in favor of the Collateral Agent for the the benefit of the the Secured Parties, subject to to the terms of the the ABL ABL Intercreditor Agreement, the the Monarch Acquisition Intercreditor Agreement, the REV REV Energy Acquisition Intercreditor Agreement and other Permitted Liens permitted to be be senior to the the Liens securing the Obligations and and to the effects of bankruptcy, insolvency, fraudulent conveyance, reorganization, winding up, up, moratorium and and other similar Laws relating to or or affecting creditors’ rights generally, general equitable principles (whether considered in a proceeding in in equity or at at Law) and an an implied covenant of good faith and and fair dealing and, upon the the taking of such such actions when when and to the extent required under the Security Documents or this this Agreement, but but subject to any any exceptions in in regards to to taking any any actions and and limitations in regards to the the scope, perfection and and priority of of Collateral Agent’s Lien in the the assets of of Holdings and its its Restricted Subsidiaries as set set forth therein or in the the definition of of “Collateral and and Guarantee Requirement”, such such Liens (a) constitute perfected Liens on on all of the the applicable Collateral, (b) have priority over all other Liens on the the Collateral, subject to to Permitted Liens and the provisions of the ABL ABL Intercreditor Agreement, the Monarch Acquisition Intercreditor Agreement, the REV REV Energy Acquisition Intercreditor Agreement or or another customary intercreditor agreement or arrangements reasonably satisfactory to the the Agent, the the Required Lenders and the the Borrower, in in each case, then then in existence, and (c) are enforceable against each Obligor, as as applicable, granting such such Liens. Schedule 7.2 7.2 attached hereto contains a complete and accurate list list in all material respects as of the Closing Date of all Real Real Estate (other than the Excluded Real Property, if if any, as of such such date). 7.3 Organization and Qualification. Holdings and each each Restricted Subsidiary (a) is duly organized and and validly existing in good good standing under the laws of of the jurisdiction of its its organization, (b) is duly duly qualified as a as a foreign corporation, partnership or or limited liability company, as applicable, and is is in good standing in each each jurisdiction in which the the failure to be be so qualified and and in good good standing would reasonably be be expected to have a Material Adverse Effect, and and (c) has all all requisite power and authority to to conduct its its business and to to own its its property, except where the failure to have have such power and and authority would not reasonably be be expected to have have a Material Adverse Effect. 7.4 Subsidiaries; Stock. As of the the Agreement Date, Schedule 7.4 7.4 contains a a correct and and complete list list of Holdings and its its Subsidiaries, including (a) jurisdiction of of organization, (b) the form of of organization, (c) identification number of such such Person in its its jurisdiction of of organization, if any, (d) the address of each each Person’s chief executive office and (e) each jurisdiction where such Person is is qualified to do do business. The The Stock of Holdings and its its Subsidiaries is is free and clear of all Liens (other than, statutory Permitted Liens, if if applicable) and and has been duly duly authorized and validly issued in in compliance with with all applicable federal, state and and other Laws and and is fully paid paid and and non-assessable (except to the the extent such concepts are not not applicable under the the applicable Law Law of such such Subsidiary’s jurisdiction of of formation). Except as set forth on Schedule 7.4, in in each case as of the the Closing Date, there is no no existing option, warrant, call, right, commitment or other agreement (including, without limitation, preemptive rights) to which Holdings or any of its its Subsidiaries is is a party requiring, and and there is no no membership interest or other Stock of Holdings or any of its its Subsidiaries outstanding which -113-</Context7>\n",
            "\n",
            "<Context8>with respect to its its funding obligations under this Agreement, (d) the failure by by a Lender to to confirm in a in a manner reasonably satisfactory to the the Agent that it will comply with with its its obligations under this this Agreement, (e) (e) any Lender or a or a direct or or indirect parent company of each each Lender becoming subject to to a Bail-In Action or or (f) a Distressed Person has admitted in writing that it it is insolvent or or such Distressed Person becomes subject to a to a Lender-Related Distress Event. “Lender-Related Distress Event” means, with respect to any Lender, that that such Lender or or any Person that that directly or or indirectly controls such Lender (each, a “Distressed Person”), as the the case may be, is is or becomes subject to a to a voluntary or or involuntary case case with respect to such Distressed Person under any any debt relief law, or a or a custodian, conservator, receiver or similar official is is appointed for for such Distressed Person or any any substantial part of such Distressed Person’s assets, or or such Distressed Person or any any person that that directly or or indirectly controls such such Distressed Person is subject to a forced liquidation or winding up, or or such Distressed Person makes a a general assignment for the the benefit of of creditors or is is otherwise adjudicated as, or determined by any any governmental authority having regulatory authority over such such Distressed Person or its its assets to be, be, insolvent or or bankrupt; provided that a a Lender-Related Distress Event shall not be deemed to have occurred solely by virtue of of the ownership or or acquisition of of any Stock in any any Lender or any Person that that directly or or indirectly controls such such Lender by a by a governmental authority or an an instrumentality thereof; provided, further, that such ownership interest does not result in in or provide such such person with with immunity from from the the jurisdiction of of courts within the United States or from the enforcement of of judgments or or writs of of attachment on on its assets or or permit such such person (or (or such such governmental authority or or instrumentality) to reject, repudiate, disavow or disaffirm any any contract or or agreements made made by such person or its parent entity. “Lien” means: (a) any interest in in property securing an an obligation owed owed to, or a claim by, a Person other than the owner of of the property, whether such such interest is is based on the the common law, law, statute, or or contract, and and including a a security interest, charge, claim, priority or or lien arising from a mortgage, deed of of trust, encumbrance, pledge, hypothecation, deemed trust, assignment, deposit arrangement, security agreement, conditional sale or trust receipt or or the interest of of a vendor or or lessor under a a capital lease, consignment or or title retention agreement; and and (b) to the the extent not not included under clause (a), any any reservation, exception, encroachment, easement, servitude right-of-way, restriction, lease or other title exception or or encumbrance affecting property (and for clarity, including exclusive licenses (but not not non-exclusive licenses) granted in Intellectual Property). “Limited Condition Acquisition” means any Permitted Acquisition (and (and any other acquisition constituting a a Permitted Investment) whose consummation is not not conditioned on on the availability of, or on on obtaining, third party financing. “Liquidity” means, as of any date of of determination, the sum of (i) the aggregate amount of of Unrestricted Cash of the the Obligors at at such time plus (ii) Availability (as defined in the the ABL Credit Agreement as of the the Agreement Date) at such time. “Loan Documents” means this this Agreement, the the First Amendment, the the Second Amendment, the the Third Amendment, the the Guarantee Agreement, the the Security Documents, the the Notes, the Fee Fee Letter, the the First Amendment Fee Letters, the the Third Amendment Fee Letters, the the Transactions with Affiliates Letter Agreement, the ABL ABL Intercreditor Agreement, the the Monarch Acquisition Intercreditor Agreement, the REV REV Energy Acquisition Intercreditor Agreement and any any other agreements, instruments, and and documents heretofore, now or or hereafter evidencing, securing or or guaranteeing any any of the Obligations or or any of the the Collateral, in in each case to to which one or or more Obligors is is a party. “Long-Term Accounts Receivable” means any Accounts that that have been been outstanding for more than 90 90 days. -48-</Context8>\n",
            "\n",
            "<Context9>SYNCORA GUARANTEE INC., as an an Additional Term Term B Loan Lender By:  GoldenTree Asset Management LP By:  /s/ Karen Weber Name: Karen Weber Title: Authorized Signatory TOLLESON HIGH YIELD CREDIT, LP., as an Additional Term B B Loan Lender By:  GoldenTree Asset Management LP By:  /s/ Karen Weber Name: Karen Weber Title: Authorized Signatory [Signature Page to to Fourth Amendment to Term Loan Credit Agreement]</Context9>\n",
            "\n",
            "\n"
          ]
        }
      ],
      "source": [
        "question = \"What is the Acknowledgement Regarding Any Supported QFCs?\"\n",
        "\n",
        "rag_passage = return_RAG_passage(question,embed_index)"
      ]
    },
    {
      "cell_type": "markdown",
      "metadata": {
        "id": "RFBGHO3EkpBn"
      },
      "source": [
        "## Adding the question to the RAG chunks,\n",
        "\n",
        "### Also you can see that the token count has decreaded significantly to 8347, which was 163227 before."
      ]
    },
    {
      "cell_type": "code",
      "execution_count": null,
      "metadata": {
        "colab": {
          "base_uri": "https://localhost:8080/"
        },
        "id": "g5wJErHYRY-f",
        "outputId": "60fccbdc-6613-4fe1-c7ca-0b0ec4e77710"
      },
      "outputs": [
        {
          "output_type": "stream",
          "name": "stdout",
          "text": [
            "8347\n"
          ]
        }
      ],
      "source": [
        "full_prompt_LD = rag_passage +\"\\n\\n\" +question\n",
        "print(len(token_encoding.encode(full_prompt_LD)))"
      ]
    },
    {
      "cell_type": "code",
      "execution_count": null,
      "metadata": {
        "id": "mQYnzXqgRc7k"
      },
      "outputs": [],
      "source": [
        "response = CallOpenAI(full_prompt_LD,\"You are a Professional lawyer who can analyse documents thorougly\")"
      ]
    },
    {
      "cell_type": "markdown",
      "metadata": {
        "id": "UvtckUahk_b2"
      },
      "source": [
        "### Finally you get the answer which was throwing error in our previous lab"
      ]
    },
    {
      "cell_type": "code",
      "execution_count": null,
      "metadata": {
        "colab": {
          "base_uri": "https://localhost:8080/"
        },
        "id": "GBwLv_hJReY-",
        "outputId": "64df4bc7-846d-4998-ad13-de211f6049c3"
      },
      "outputs": [
        {
          "output_type": "stream",
          "name": "stdout",
          "text": [
            "The \"Acknowledgement Regarding Any Supported QFCs\" is a provision in a legal document that addresses the treatment of hedge agreements or other agreements or instruments that are Qualified Financial Contracts (QFCs) and are supported by the loan documents. \n",
            "\n",
            "In this provision, the parties acknowledge and agree that in the event of a proceeding under a U.S. Special Resolution Regime involving a Covered Entity that is a party to a Supported QFC, the transfer of such Supported QFC and the benefit of QFC Credit Support will be effective to the same extent as if the Supported QFC and QFC Credit Support were governed by the U.S. Special Resolution Regimes. This provision outlines the effects of a Bail-In Action on such liabilities, including potential reduction, conversion into shares or other instruments of ownership, or variation of terms.\n",
            "\n",
            "The provision also clarifies the rights and obligations of the parties in relation to the resolution power of the Federal Deposit Insurance Corporation under the Federal Deposit Insurance Act and Title II of the Dodd-Frank Wall Street Reform and Consumer Protection Act concerning Supported QFCs and QFC Credit Support.\n",
            "\n",
            "Overall, the Acknowledgement Regarding Any Supported QFCs provision aims to establish the parties' consent and acknowledgment of the potential impact of resolution regimes on Supported QFCs and QFC Credit Support in the context of the loan agreement.\n"
          ]
        }
      ],
      "source": [
        "print(response.choices[0].message.content)"
      ]
    },
    {
      "cell_type": "code",
      "execution_count": null,
      "metadata": {
        "id": "gmVS6rG3RfSk"
      },
      "outputs": [],
      "source": []
    }
  ],
  "metadata": {
    "colab": {
      "provenance": []
    },
    "kernelspec": {
      "display_name": "Python 3",
      "name": "python3"
    },
    "language_info": {
      "name": "python"
    }
  },
  "nbformat": 4,
  "nbformat_minor": 0
}