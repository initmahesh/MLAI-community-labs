{
  "cells": [
    {
      "cell_type": "markdown",
      "metadata": {
        "id": "oV34ar8XJ8SY"
      },
      "source": [
        "## Overview\n",
        "\n",
        "[![Open In Colab](https://colab.research.google.com/assets/colab-badge.svg)](https://colab.research.google.com/github/sachin0034/MLAI-community-labs/blob/main/Class-Labs/Lab-14%28LLM-Judge-lab%29/Lab-4%28Continuously%20Evaluate%20your%20AI%20agents%20-%20Azure%20AI%20Foundry%29/Continuously_Evaluate_your_AI_agents_Azure_AI_Foundry.ipynb)\n",
        "\n",
        "\n",
        "In this lab, you'll explore **Continuous Evaluation for Agents** — a powerful tool that provides near real-time evualteand monitoring for your AI applications. Through hands-on exercises, you'll learn how to implement, configure, and leverage this feature to ensure optimal agent performance.\n",
        "\n",
        "## Introduction\n",
        "\n",
        "Continuous Evaluation enables your AI agents to be evaluate monitored at a defined sampling rate. It provides actionable insights into quality, safety, and performance, with all metrics surfaced in the **Foundry Observability Dashboard**. Evaluations are directly linked to traces, making it easy to troubleshoot issues, perform root cause analysis, and continuously improve your AI workflows.\n",
        "\n",
        "## Key Benefits\n",
        "\n",
        "- **Near Real-Time Monitoring**: Immediate visibility into agent performance\n",
        "- **Quality Assurance**: Continuous evaluation of interaction quality\n",
        "- **Safety Monitoring**: Ongoing tracking of safety-related metrics\n",
        "- **Performance Optimization**: Data-driven insights for enhancing agent efficiency\n",
        "- **Early Issue Detection**: Proactive identification of issues before user impact\n",
        "- **Root Cause Analysis**: Trace-linked evaluations for detailed debugging\n"
      ]
    },
    {
      "cell_type": "markdown",
      "metadata": {
        "id": "uMZTvHPTKPZ1"
      },
      "source": [
        "# Getting Started"
      ]
    },
    {
      "cell_type": "markdown",
      "metadata": {
        "id": "EMpMlB-5KXbr"
      },
      "source": [
        "## Prerequisites\n",
        "\n",
        "**1 Azure Subscription**: You must have an **Azure subscription with access to Azure OpenAI Service**. A premium subscription is strongly recommended to access all features.\n",
        "\n",
        "**2 Azure AI Foundry Project**: You need an active AI Foundry project. If you don't have one, you can create one using this guide:\n",
        "\n",
        "* **3 Create a Foundry Project**: [https://learn.microsoft.com/en-us/azure/ai-foundry/how-to/create-projects](https://learn.microsoft.com/en-us/azure/ai-foundry/how-to/create-projects?pivots=fdp-project&tabs=ai-foundry)\n",
        "\n",
        "\n",
        "\n",
        "**4 Application Insights**: To monitor your application and view evaluation dashboards, you must connect Application Insights.\n",
        "   - Navigate to your project in **Azure AI Foundry**.\n",
        "   - Select **Monitoring** on the left-hand menu and go to **Application Analytics**.\n",
        "   - Connect your **Application Insights** resource to the project.\n",
        "\n",
        "**5 Dowload the Dummy MSA Document From Here For Testing** [Click Here](https://drive.google.com/file/d/1E557kdNBZ5cDUvVDLNrEVRuKcRSYDG3Z/view?usp=sharing)"
      ]
    },
    {
      "cell_type": "markdown",
      "metadata": {
        "id": "RFKpy0O2K1_4"
      },
      "source": [
        "## Sign into Azure interactively using the Azure CLI\n",
        "\n",
        "To interact with Azure resources directly from your Colab notebook, you first need to install the **Azure CLI** in the Colab environment. Use the command below to install it:\n",
        "**bold text**\n"
      ]
    },
    {
      "cell_type": "code",
      "execution_count": null,
      "metadata": {
        "colab": {
          "base_uri": "https://localhost:8080/"
        },
        "id": "6epjjvODA9eX",
        "outputId": "0aab34a3-466a-4899-a076-33a40fe6858d"
      },
      "outputs": [],
      "source": [
        "!curl -sL https://aka.ms/InstallAzureCLIDeb | sudo bash"
      ]
    },
    {
      "cell_type": "markdown",
      "metadata": {
        "id": "ETY8-c5_NJhT"
      },
      "source": [
        "## Interactive login\n",
        "`az login` is a command used with the **Azure CLI (Command Line Interface)** to authenticate and connect your local environment (like Terminal, Command Prompt, or Jupyter Notebook) to your **Microsoft Azure account**.\n",
        "\n",
        "## Requirements\n",
        "\n",
        "- ✅ You must have an **Azure subscription account**.\n",
        "- ✅ **Azure CLI** should be installed (`az` command should work in your terminal or notebook).\n",
        "\n",
        "## When you run `az login`, you will receive a message like:\n",
        "***To sign in, use a web browser to open the page https://microsoft.com/devicelogin and enter the code SHH9K2G35 to authenticate.***\n",
        "\n",
        "***Click the link, paste the provided code, and follow the login steps to complete authentication.***"
      ]
    },
    {
      "cell_type": "markdown",
      "metadata": {
        "id": "vrm0OIFGNknk"
      },
      "source": [
        "## Step-by-step Instructions\n",
        "\n",
        "1. Copy and open this link in your browser:  \n",
        "   👉 [https://microsoft.com/devicelogin](https://microsoft.com/devicelogin)\n",
        "\n",
        "2. Paste the **code** displayed in your terminal (e.g., `SHH9K2G35`) and click **Next**. ⚠️ The code shown will be different each time.\n",
        "\n",
        "3. Sign in using your **Microsoft Azure account credentials**.\n",
        "\n",
        "4. After signing in, you'll be asked to **select your Azure subscription** if you have more than one.\n",
        "\n",
        "5. Once selected, authentication is complete, and you're **ready to use Azure CLI** commands."
      ]
    },
    {
      "cell_type": "code",
      "execution_count": 4,
      "metadata": {
        "colab": {
          "base_uri": "https://localhost:8080/"
        },
        "id": "EjtoQVKCBCcg",
        "outputId": "b79a48a3-2db9-4651-e588-6ff9779d4678"
      },
      "outputs": [
        {
          "name": "stdout",
          "output_type": "stream",
          "text": [
            "\u001b[93mTo sign in, use a web browser to open the page https://microsoft.com/devicelogin and enter the code AVCA9BL47 to authenticate.\u001b[0m\n",
            "\n",
            "Retrieving tenants and subscriptions for the selection...\n",
            "\n",
            "[Tenant and subscription selection]\n",
            "\n",
            "No     Subscription name              Subscription ID                       Tenant\n",
            "-----  -----------------------------  ------------------------------------  -----------\n",
            "\u001b[96m[1]\u001b[0m *  \u001b[96mMicrosoft Azure LegalGraph AI\u001b[0m  \u001b[96m0d74045d-252c-4b44-856a-71c5dee6b80a\u001b[0m  \u001b[96mPragyaa LLC\u001b[0m\n",
            "\n",
            "The default is marked with an *; the default tenant is 'Pragyaa LLC' and subscription is 'Microsoft Azure LegalGraph AI' (0d74045d-252c-4b44-856a-71c5dee6b80a).\n",
            "\n",
            "Select a subscription and tenant (Type a number or Enter for no changes): 1\n",
            "\n",
            "Tenant: Pragyaa LLC\n",
            "Subscription: Microsoft Azure LegalGraph AI (0d74045d-252c-4b44-856a-71c5dee6b80a)\n",
            "\n",
            "[Announcements]\n",
            "With the new Azure CLI login experience, you can select the subscription you want to use more easily. Learn more about it and its configuration at https://go.microsoft.com/fwlink/?linkid=2271236\n",
            "\n",
            "If you encounter any problem, please open an issue at https://aka.ms/azclibug\n",
            "\n",
            "\u001b[93m[Warning] The login output has been updated. Please be aware that it no longer displays the full list of available subscriptions by default.\n",
            "\u001b[0m\n"
          ]
        }
      ],
      "source": [
        "!az login"
      ]
    },
    {
      "cell_type": "markdown",
      "metadata": {
        "id": "TiRjXt4wPgN-"
      },
      "source": [
        "## Step 2: Install Required Packages\n",
        "\n",
        "Ok, so now your **first step** is to install the required Python packages. These will enable you to work with **Azure AI services**, handle **document processing**, and build an interactive UI using **Gradio**.\n",
        "\n",
        "Run the following command in your environment:\n",
        "\n",
        "| Package Name        | Description                                                                 |\n",
        "|---------------------|-----------------------------------------------------------------------------|\n",
        "| `azure-ai-projects` | SDK to interact with Azure AI projects and services                         |\n",
        "| `azure-identity`    | Provides Azure Active Directory token authentication for Azure SDKs         |\n",
        "| `python-dotenv`     | Loads environment variables from a `.env` file into the environment          |\n",
        "| `gradio`            | Builds simple and interactive web UIs for ML models and functions            |\n",
        "| `PyPDF2`            | Extracts text, metadata, and handles PDF file reading and manipulation       |\n",
        "| `python-docx`       | Reads, writes, and manipulates Microsoft Word `.docx` files                  |\n",
        "| `openpyxl`          | Reads and writes Excel `.xlsx` files                                         |\n",
        "| `pandas`            | Provides data structures and tools for data manipulation and analysis        |\n"
      ]
    },
    {
      "cell_type": "code",
      "execution_count": null,
      "metadata": {
        "colab": {
          "base_uri": "https://localhost:8080/"
        },
        "collapsed": true,
        "id": "2jYS_I3yI6JU",
        "outputId": "24d1b9a4-1edc-48f3-8d49-325c206764b1"
      },
      "outputs": [],
      "source": [
        "# Install all required packages for Azure AI, document processing, and Gradio interface\n",
        "! pip install azure-ai-projects azure-identity python-dotenv gradio PyPDF2 python-docx openpyxl pandas"
      ]
    },
    {
      "cell_type": "markdown",
      "metadata": {
        "id": "qOV8zCkPP-w2"
      },
      "source": [
        "## Step3: Import Required Libraries\n",
        "\n",
        "Once all packages are installed, import the necessary libraries for:\n",
        "\n",
        "- Working with Azure AI Projects\n",
        "- Document processing (PDF, DOCX, Excel)\n",
        "- Building the Gradio interface\n",
        "- Loading environment variables"
      ]
    },
    {
      "cell_type": "code",
      "execution_count": null,
      "metadata": {
        "colab": {
          "base_uri": "https://localhost:8080/"
        },
        "id": "Q-ZppjY2I_ew",
        "outputId": "b130243a-6552-437b-da12-1929089c5d28"
      },
      "outputs": [
        {
          "name": "stdout",
          "output_type": "stream",
          "text": [
            "✅ All libraries imported successfully!\n"
          ]
        }
      ],
      "source": [
        "import os\n",
        "import time\n",
        "import io\n",
        "import pandas as pd\n",
        "import gradio as gr\n",
        "from typing import Optional, Tuple, Dict\n",
        "\n",
        "# Azure AI imports\n",
        "from azure.identity import DefaultAzureCredential\n",
        "from azure.ai.projects import AIProjectClient\n",
        "from azure.ai.projects.models import (\n",
        "    AgentEvaluationRequest,\n",
        "    InputDataset,\n",
        "    EvaluatorIds,\n",
        "    EvaluatorConfiguration,\n",
        "    AgentEvaluationSamplingConfiguration,\n",
        "    AgentEvaluationRedactionConfiguration,\n",
        ")\n",
        "\n",
        "# Document processing imports\n",
        "import PyPDF2\n",
        "from docx import Document\n",
        "\n",
        "\n",
        "print(\"✅ All libraries imported successfully!\")"
      ]
    },
    {
      "cell_type": "markdown",
      "metadata": {
        "id": "xMIUihbPQIsh"
      },
      "source": [
        "## Step 4 : Configure Azure AI Project\n",
        "Next, configure your Azure AI project by setting the required `endpoint` and `model_deployment_name`. These should be replaced with **your actual Azure AI project details**.\n",
        "- Create an Enpoint Azure AI Foundry Guide  : [Click Here](https://learn.microsoft.com/en-us/azure/ai-foundry/how-to/develop/sdk-overview?pivots=programming-language-csharp\n",
        ")\n",
        "- Deploy AI Models in Azure AI Foundry Guide - [Click Here](https://www.linkedin.com/pulse/how-deploy-ai-models-minutes-azure-foundryguide-pradip-tivhale-dpbjc\n",
        ")"
      ]
    },
    {
      "cell_type": "code",
      "execution_count": 43,
      "metadata": {
        "colab": {
          "base_uri": "https://localhost:8080/"
        },
        "id": "Wt0CWzYAJARp",
        "outputId": "3028e72d-c8f0-4ff0-91fe-75fbf4e1e727"
      },
      "outputs": [
        {
          "name": "stdout",
          "output_type": "stream",
          "text": [
            "🚀 Initializing Azure AI configuration...\n",
            "❌ Configuration Error: Please replace the placeholder values for 'endpoint' and 'model_deployment_name'.\n"
          ]
        }
      ],
      "source": [
        "import os\n",
        "# You would typically need these imports for the actual client initialization\n",
        "# from azure.identity import DefaultAzureCredential\n",
        "# from azure.ai.projects import AIProjectClient\n",
        "\n",
        "# Azure AI Project configuration\n",
        "# Replace these with your actual Azure AI project details\n",
        "# Get the Keys from Here : https://learn.microsoft.com/en-us/azure/ai-foundry/how-to/develop/sdk-overview?pivots=programming-language-csharp\n",
        "endpoint = \"INSERT YOUR KEYS HERE\"\n",
        "# Deploy AI Models in Azure AI Foundry Guide : https://www.linkedin.com/pulse/how-deploy-ai-models-minutes-azure-foundryguide-pradip-tivhale-dpbjc\n",
        "model_deployment_name = \"INSERT YOUR KEYS HERE\"\n",
        "\n",
        "# Global variables to store agent and project client\n",
        "project_client = None\n",
        "agent = None\n",
        "extracted_text = \"\"\n",
        "\n",
        "try:\n",
        "    print(\"🚀 Initializing Azure AI configuration...\")\n",
        "\n",
        "    # 1. Check if placeholder keys are replaced\n",
        "    if \"INSERT YOUR KEYS HERE\" in (endpoint, model_deployment_name):\n",
        "        raise ValueError(\"Please replace the placeholder values for 'endpoint' and 'model_deployment_name'.\")\n",
        "\n",
        "    # 2. The actual client initialization would go here.\n",
        "    #    This is where errors related to authentication or invalid endpoints would be caught.\n",
        "    #    Example:\n",
        "    #    credential = DefaultAzureCredential()\n",
        "    #    project_client = AIProjectClient(endpoint=endpoint, credential=credential)\n",
        "\n",
        "    print(\"✅ Azure AI configuration is valid.\")\n",
        "\n",
        "except ValueError as ve:\n",
        "    # Catches specific configuration errors, like the placeholder issue.\n",
        "    print(f\"❌ Configuration Error: {ve}\")\n",
        "\n",
        "except Exception as e:\n",
        "    # Catches any other exceptions during initialization (e.g., connection, authentication).\n",
        "    print(f\"❌ An unexpected error occurred during initialization: {e}\")"
      ]
    },
    {
      "cell_type": "markdown",
      "metadata": {
        "id": "feJVregBWP4m"
      },
      "source": [
        "## Step 5: Define Document Extraction Functions\n",
        "This function is responsible for **extracting text** from documents you upload.  \n",
        "It supports major file types like **PDF**, **DOCX**, and **TXT** formats.\n",
        "\n",
        "---\n",
        "\n",
        "### What It Does this function do :\n",
        "\n",
        "- Reads the uploaded file\n",
        "- Detects the file type\n",
        "- Extracts the text content accordingly\n",
        "- Returns the clean extracted text"
      ]
    },
    {
      "cell_type": "code",
      "execution_count": 8,
      "metadata": {
        "colab": {
          "base_uri": "https://localhost:8080/"
        },
        "id": "UzRYX2upJH7o",
        "outputId": "7d1e08da-4bcc-4e69-e5b8-6d2da0b4b0a5"
      },
      "outputs": [
        {
          "name": "stdout",
          "output_type": "stream",
          "text": [
            "📄 Document extraction functions defined!\n"
          ]
        }
      ],
      "source": [
        "def extract_text_from_pdf(file_path: str) -> str:\n",
        "    \"\"\"\n",
        "    Extract text content from PDF files\n",
        "    Args:\n",
        "        file_path (str): Path to the PDF file\n",
        "    Returns:\n",
        "        str: Extracted text content\n",
        "    \"\"\"\n",
        "    try:\n",
        "        text = \"\"\n",
        "        with open(file_path, 'rb') as file:\n",
        "            pdf_reader = PyPDF2.PdfReader(file)\n",
        "            for page in pdf_reader.pages:\n",
        "                text += page.extract_text() + \"\\n\"\n",
        "        return text.strip()\n",
        "    except Exception as e:\n",
        "        return f\"Error extracting PDF: {str(e)}\"\n",
        "\n",
        "def extract_text_from_docx(file_path: str) -> str:\n",
        "    \"\"\"\n",
        "    Extract text content from Word documents\n",
        "    Args:\n",
        "        file_path (str): Path to the DOCX file\n",
        "    Returns:\n",
        "        str: Extracted text content\n",
        "    \"\"\"\n",
        "    try:\n",
        "        doc = Document(file_path)\n",
        "        text = \"\"\n",
        "        for paragraph in doc.paragraphs:\n",
        "            text += paragraph.text + \"\\n\"\n",
        "        return text.strip()\n",
        "    except Exception as e:\n",
        "        return f\"Error extracting DOCX: {str(e)}\"\n",
        "\n",
        "def extract_text_from_txt(file_path: str) -> str:\n",
        "    \"\"\"\n",
        "    Extract text content from plain text files\n",
        "    Args:\n",
        "        file_path (str): Path to the TXT file\n",
        "    Returns:\n",
        "        str: Extracted text content\n",
        "    \"\"\"\n",
        "    try:\n",
        "        with open(file_path, 'r', encoding='utf-8') as file:\n",
        "            return file.read().strip()\n",
        "    except Exception as e:\n",
        "        return f\"Error extracting TXT: {str(e)}\"\n",
        "\n",
        "def extract_text_from_document(file_path: str) -> str:\n",
        "    \"\"\"\n",
        "    Main function to extract text from various document formats\n",
        "    Args:\n",
        "        file_path (str): Path to the document file\n",
        "    Returns:\n",
        "        str: Extracted text content\n",
        "    \"\"\"\n",
        "    if not file_path:\n",
        "        return \"No file uploaded\"\n",
        "\n",
        "    file_extension = os.path.splitext(file_path.lower())[1]\n",
        "\n",
        "    if file_extension == '.pdf':\n",
        "        return extract_text_from_pdf(file_path)\n",
        "    elif file_extension == '.docx':\n",
        "        return extract_text_from_docx(file_path)\n",
        "    elif file_extension == '.txt':\n",
        "        return extract_text_from_txt(file_path)\n",
        "    else:\n",
        "        return f\"Unsupported file format: {file_extension}\"\n",
        "\n",
        "print(\"📄 Document extraction functions defined!\")"
      ]
    },
    {
      "cell_type": "markdown",
      "metadata": {
        "id": "v0Qo7G2tWp1V"
      },
      "source": [
        "## Step 6 : Define Azure AI Agent\n",
        "\n",
        "Below are the two main functions used to initialize and create an Azure AI agent that can work with uploaded document content.\n",
        "\n",
        "---\n",
        "\n",
        "### 1. `initialize_azure_client()`\n",
        "\n",
        "**Purpose:**  \n",
        "Authenticates your environment with Azure and returns an instance of the `AIProjectClient`, allowing you to interact with Azure AI services.  \n",
        "It uses `DefaultAzureCredential` for seamless login, including browser-based login if needed.\n",
        "\n",
        "---\n",
        "\n",
        "### 2. `create_agent_with_document_context(document_text: str)`\n",
        "\n",
        "**Purpose:**  \n",
        "Creates a custom AI agent in Azure using the extracted document text as part of its instruction prompt.  \n",
        "This agent can answer questions specifically based on the document's content or fall back to general knowledge when needed.  \n",
        "It ensures responses are clear about whether the information came from the uploaded document or from external knowledge.\n"
      ]
    },
    {
      "cell_type": "code",
      "execution_count": 9,
      "metadata": {
        "colab": {
          "base_uri": "https://localhost:8080/"
        },
        "id": "BcSWVgIzJRiz",
        "outputId": "1dc33ac9-cf76-4a1e-d26e-92ccf99efce6"
      },
      "outputs": [
        {
          "name": "stdout",
          "output_type": "stream",
          "text": [
            "🤖 Azure AI agent functions defined!\n"
          ]
        }
      ],
      "source": [
        "def initialize_azure_client():\n",
        "    \"\"\"\n",
        "    Initialize Azure AI Project Client with authentication\n",
        "    Returns:\n",
        "        AIProjectClient: Authenticated Azure AI project client\n",
        "    \"\"\"\n",
        "    try:\n",
        "        credential = DefaultAzureCredential(exclude_interactive_browser_credential=False)\n",
        "        client = AIProjectClient(endpoint=endpoint, credential=credential)\n",
        "        return client\n",
        "    except Exception as e:\n",
        "        print(f\"❌ Error initializing Azure client: {str(e)}\")\n",
        "        return None\n",
        "\n",
        "def create_agent_with_document_context(document_text: str):\n",
        "    \"\"\"\n",
        "    Create an Azure AI agent with document context in instructions\n",
        "    Args:\n",
        "        document_text (str): Extracted text from uploaded document\n",
        "    Returns:\n",
        "        tuple: (agent_object, success_message)\n",
        "    \"\"\"\n",
        "    global project_client, agent\n",
        "\n",
        "    try:\n",
        "        # Initialize client if not already done\n",
        "        if project_client is None:\n",
        "            project_client = initialize_azure_client()\n",
        "            if project_client is None:\n",
        "                return None, \"❌ Failed to initialize Azure client\"\n",
        "\n",
        "        # Create agent with document context\n",
        "        instructions = f\"\"\"You are a helpful AI assistant with access to the following document content:\n",
        "\n",
        "DOCUMENT CONTENT:\n",
        "{document_text}\n",
        "\n",
        "Instructions:\n",
        "- Use the provided document content to answer user questions accurately\n",
        "- If the question relates to the document, provide specific information from it\n",
        "- If the question is outside the document scope, provide general helpful responses\n",
        "- Always be clear about whether your answer comes from the document or general knowledge\n",
        "\"\"\"\n",
        "\n",
        "        agent = project_client.agents.create_agent(\n",
        "            model=model_deployment_name,\n",
        "            name=\"document-assistant\",\n",
        "            instructions=instructions,\n",
        "        )\n",
        "\n",
        "        return agent, f\"✅ Agent created successfully with ID: {agent.id}\"\n",
        "\n",
        "    except Exception as e:\n",
        "        return None, f\"❌ Error creating agent: {str(e)}\"\n",
        "\n",
        "print(\"🤖 Azure AI agent functions defined!\")\n"
      ]
    },
    {
      "cell_type": "markdown",
      "metadata": {
        "id": "7vWU_d-sXal-"
      },
      "source": [
        "## Step 7 : User Query Handling & AI Evaluation\n",
        "\n",
        "### 3. `process_user_query(user_query: str)`\n",
        "\n",
        "**Purpose:**  \n",
        "Processes a user's question using the Azure AI agent and returns a detailed answer along with a simple evaluation summary.\n",
        "\n",
        "This function performs the following:\n",
        "- Starts a new thread and sends the user’s query.\n",
        "- Runs the Azure AI agent on the query.\n",
        "- Waits for and retrieves the assistant's response.\n",
        "- Submits the response for automated evaluation based on metrics like:\n",
        "  - **Violence** (safety check)\n",
        "  - **Fluency** (language quality)\n",
        "  - **Relevance** (context accuracy)\n",
        "- Returns the AI's answer and a status table showing that evaluation was submitted to Azure.\n",
        "\n",
        "> 📊 Detailed evaluation metrics and scores will be available inside **Azure AI Studio**.\n"
      ]
    },
    {
      "cell_type": "code",
      "execution_count": 35,
      "metadata": {
        "colab": {
          "base_uri": "https://localhost:8080/"
        },
        "id": "tvS68XRmJSL-",
        "outputId": "74debb9f-eee4-4bfb-bbca-e693599c912e"
      },
      "outputs": [
        {
          "name": "stdout",
          "output_type": "stream",
          "text": [
            "💬 Chat and evaluation functions defined!\n"
          ]
        }
      ],
      "source": [
        "def process_user_query(user_query: str) -> Tuple[str, pd.DataFrame]:\n",
        "    \"\"\"\n",
        "    Process user query through Azure AI agent and return response with evaluations\n",
        "    Args:\n",
        "        user_query (str): User's question/query\n",
        "    Returns:\n",
        "        tuple: (response_text, simple_status_dataframe)\n",
        "    \"\"\"\n",
        "    global project_client, agent\n",
        "\n",
        "    if not project_client or not agent:\n",
        "        return \"❌ Agent not initialized. Please upload a document first.\", pd.DataFrame()\n",
        "\n",
        "    try:\n",
        "        # Create a new thread for conversation\n",
        "        thread = project_client.agents.threads.create()\n",
        "        print(f\"Created thread, thread ID: {thread.id}\")\n",
        "\n",
        "        # Create user message\n",
        "        message = project_client.agents.messages.create(\n",
        "            thread_id=thread.id,\n",
        "            role=\"user\",\n",
        "            content=user_query\n",
        "        )\n",
        "        print(f\"Created message, message ID: {message.id}\")\n",
        "\n",
        "        # Create and run the agent\n",
        "        run = project_client.agents.runs.create(\n",
        "            thread_id=thread.id,\n",
        "            agent_id=agent.id\n",
        "        )\n",
        "\n",
        "        # Poll the run as long as run status is queued or in progress - EXACTLY like your original code\n",
        "        while run.status in [\"queued\", \"in_progress\", \"requires_action\"]:\n",
        "            # Wait for a second\n",
        "            time.sleep(1)\n",
        "            run = project_client.agents.runs.get(thread_id=thread.id, run_id=run.id)\n",
        "            print(f\"Run status: {run.status}\")\n",
        "\n",
        "        # List messages - EXACTLY like your original code\n",
        "        messages = project_client.agents.messages.list(thread_id=thread.id)\n",
        "        response_text = \"\"\n",
        "\n",
        "        for msg in messages:\n",
        "            print(f\"Role: {msg.role}, Content: {msg.content}\")\n",
        "            if msg.role == \"assistant\":\n",
        "                response_text = msg.content[0].text.value if msg.content else \"No response\"\n",
        "\n",
        "        # Create evaluation request - EXACTLY like your original code\n",
        "        agent_evaluation_request = AgentEvaluationRequest(\n",
        "            run_id=run.id,\n",
        "            thread_id=thread.id,\n",
        "\n",
        "           evaluators={\n",
        "            \"violence\": EvaluatorConfiguration(\n",
        "                id=EvaluatorIds.VIOLENCE,\n",
        "            ),\n",
        "            \"fluency\": EvaluatorConfiguration(\n",
        "                id=EvaluatorIds.FLUENCY,\n",
        "            ),\n",
        "            \"relevance\": EvaluatorConfiguration(\n",
        "                id=EvaluatorIds.RELEVANCE,\n",
        "            ),\n",
        "            \"coherence\": EvaluatorConfiguration(\n",
        "                id=EvaluatorIds.COHERENCE,\n",
        "            ),\n",
        "            },\n",
        "\n",
        "            sampling_configuration=AgentEvaluationSamplingConfiguration(\n",
        "                name=\"test\",\n",
        "                sampling_percent=100,\n",
        "                max_request_rate=100,\n",
        "            ),\n",
        "            redaction_configuration=AgentEvaluationRedactionConfiguration(\n",
        "                redact_score_properties=False,\n",
        "            ),\n",
        "            app_insights_connection_string=project_client.telemetry.get_connection_string(),\n",
        "        )\n",
        "\n",
        "        # Create evaluation - EXACTLY like your original code\n",
        "        agent_evaluation_response = project_client.evaluations.create_agent_evaluation(\n",
        "            evaluation=agent_evaluation_request\n",
        "        )\n",
        "\n",
        "        # Print evaluation response - EXACTLY like your original code\n",
        "        print(agent_evaluation_response)\n",
        "\n",
        "        # Simple status table for Gradio interface (metrics will show in Azure dashboard)\n",
        "        eval_data = {\n",
        "            # This list has 4 items\n",
        "            \"Metric\": [\"Violence\", \"Fluency\", \"Relevance\",\"Coherence\"],\n",
        "            \"Status\": [\"✅ Submitted to Azure\", \"✅ Submitted to Azure\", \"✅ Submitted to Azure\",\"✅ Submitted to Azure\"],\n",
        "            \"Note\": [\"Check Azure AI Studio\", \"Check Azure AI Studio\", \"Check Azure AI Studio\",\"Check Azure AI Studio\"]\n",
        "        }\n",
        "        eval_df = pd.DataFrame(eval_data)\n",
        "\n",
        "        return response_text, eval_df\n",
        "\n",
        "    except Exception as e:\n",
        "        print(f\"Error in process_user_query: {str(e)}\")\n",
        "        error_df = pd.DataFrame({\"Error\": [str(e)]})\n",
        "        return f\"❌ Error processing query: {str(e)}\", error_df\n",
        "\n",
        "print(\"💬 Chat and evaluation functions defined!\")"
      ]
    },
    {
      "cell_type": "markdown",
      "metadata": {
        "id": "BCliPYPmamwc"
      },
      "source": [
        "## Step 8 :  Gradio File & Chat Interaction Handlers\n",
        "\n",
        "### `handle_file_upload(file)`\n",
        "\n",
        "**Purpose**:  \n",
        "Handles file uploads from the Gradio UI.  \n",
        "It performs the following steps:\n",
        "- Validates the file.\n",
        "- Extracts text from the uploaded document (PDF, DOCX, or TXT).\n",
        "- Creates an Azure AI agent with the document content as its knowledge base.\n",
        "- Returns a preview of the document text, a success/error message, and agent creation status.\n",
        "\n",
        "---\n",
        "\n",
        "### `handle_chat_query(query, chat_history)`\n",
        "\n",
        "**Purpose**:  \n",
        "Handles the user’s chat query using the previously created Azure agent.  \n",
        "It performs the following steps:\n",
        "- Validates the input query.\n",
        "- Sends the query to the Azure agent and waits for a response.\n",
        "- Appends the Q&A pair to the chat history.\n",
        "- Returns the updated history and evaluation results.\n"
      ]
    },
    {
      "cell_type": "code",
      "execution_count": 36,
      "metadata": {
        "colab": {
          "base_uri": "https://localhost:8080/"
        },
        "id": "y5aRoKIwJVDx",
        "outputId": "adfc59ab-ea1c-45a2-83fd-d1c0fcc420df"
      },
      "outputs": [
        {
          "name": "stdout",
          "output_type": "stream",
          "text": [
            "🎛️ Gradio interface functions defined!\n"
          ]
        }
      ],
      "source": [
        "def handle_file_upload(file):\n",
        "    \"\"\"\n",
        "    Handle document upload and extract text content\n",
        "    Args:\n",
        "        file: Gradio file upload object\n",
        "    Returns:\n",
        "        tuple: (extracted_text, status_message, agent_status)\n",
        "    \"\"\"\n",
        "    global extracted_text\n",
        "\n",
        "    if file is None:\n",
        "        return \"\", \"❌ No file uploaded\", \"Agent not ready\"\n",
        "\n",
        "    try:\n",
        "        # Extract text from uploaded document\n",
        "        extracted_text = extract_text_from_document(file.name)\n",
        "\n",
        "        if extracted_text.startswith(\"Error\") or extracted_text.startswith(\"Unsupported\"):\n",
        "            return extracted_text, extracted_text, \"Agent not ready\"\n",
        "\n",
        "        # Create agent with document context\n",
        "        agent_obj, agent_status = create_agent_with_document_context(extracted_text)\n",
        "\n",
        "        if agent_obj:\n",
        "            preview_text = extracted_text\n",
        "            return preview_text, \"✅ Document processed successfully!\", agent_status\n",
        "        else:\n",
        "            return extracted_text, agent_status, \"Agent creation failed\"\n",
        "\n",
        "    except Exception as e:\n",
        "        error_msg = f\"❌ Error processing file: {str(e)}\"\n",
        "        return \"\", error_msg, \"Agent not ready\"\n",
        "\n",
        "def handle_chat_query(query, chat_history):\n",
        "    \"\"\"\n",
        "    Handle user chat query and update conversation history\n",
        "    Args:\n",
        "        query (str): User's question\n",
        "        chat_history (list): Previous conversation history\n",
        "    Returns:\n",
        "        tuple: (updated_chat_history, empty_query, evaluation_dataframe)\n",
        "    \"\"\"\n",
        "    if not query.strip():\n",
        "        return chat_history, \"\", pd.DataFrame()\n",
        "\n",
        "    # Process the query\n",
        "    response, eval_df = process_user_query(query)\n",
        "\n",
        "    # Update chat history\n",
        "    chat_history.append([query, response])\n",
        "\n",
        "    return chat_history, \"\", eval_df\n",
        "\n",
        "print(\"🎛️ Gradio interface functions defined!\")"
      ]
    },
    {
      "cell_type": "markdown",
      "metadata": {
        "id": "3q5I3SL9bQYl"
      },
      "source": [
        "## Step 9 : Gradio Interface Overview\n",
        "\n",
        "The create_gradio_interface function defines and configures a user interface using Gradio for an Azure AI Document Chat Assistant. This assistant allows users to upload documents and interact with an AI that can answer questions based on the document content. Here's what the interface includes:\n",
        "\n",
        "### Interface Sections\n",
        "**1. Document Upload Section**\n",
        "- Allows users to upload files in PDF, DOCX, or TXT format.\n",
        "- Displays upload and agent readiness status.\n",
        "- Shows a preview of the extracted text from the uploaded document.\n",
        "\n",
        "**2. Chat Section**\n",
        "- Enables users to chat with the AI assistant after uploading a document.\n",
        "- Includes a chat window to view conversations.\n",
        "- Provides a text input and Send button for submitting questions.\n",
        "\n",
        "**3. Evaluation Metrics**\n",
        "- Shows automated evaluation results for each AI response\n",
        "- Metrics include:\n",
        "    - Violence: Ensures responses are safe.\n",
        "    - Fluency: Checks how well-written the response is.\n",
        "    - Relevance: Measures how closely the response matches the user's query.\n",
        "\n",
        "**4. Usage Instructions**\n",
        "- Provides a step-by-step guide on how to use the app.\n",
        "- Describes what each evaluation metric means.\n",
        "\n",
        "\n"
      ]
    },
    {
      "cell_type": "code",
      "execution_count": 37,
      "metadata": {
        "colab": {
          "base_uri": "https://localhost:8080/"
        },
        "id": "u4qh3630JaDW",
        "outputId": "f1221ec2-d4f1-4a02-b7ca-2f8ceec6c333"
      },
      "outputs": [
        {
          "name": "stdout",
          "output_type": "stream",
          "text": [
            "🎨 Gradio interface creation function defined!\n"
          ]
        }
      ],
      "source": [
        "def create_gradio_interface():\n",
        "    \"\"\"\n",
        "    Create and configure the Gradio interface for the document chat application\n",
        "    Returns:\n",
        "        gr.Blocks: Configured Gradio interface\n",
        "    \"\"\"\n",
        "\n",
        "    with gr.Blocks(title=\"Azure AI Document Chat Assistant\", theme=gr.themes.Soft()) as interface:\n",
        "\n",
        "        gr.Markdown(\"\"\"\n",
        "        # 🤖 Azure AI Document Chat Assistant\n",
        "\n",
        "        Upload a document and chat with an AI assistant that has knowledge of your document content.\n",
        "        Get real-time evaluation metrics for safety, fluency, and relevance.\n",
        "        \"\"\")\n",
        "\n",
        "        with gr.Row():\n",
        "            with gr.Column(scale=1):\n",
        "                # Document Upload Section\n",
        "                gr.Markdown(\"## 📄 Step 1: Upload Document\")\n",
        "                file_upload = gr.File(\n",
        "                    label=\"Upload Document (PDF, DOCX, TXT)\",\n",
        "                    file_types=[\".pdf\", \".docx\", \".txt\"]\n",
        "                )\n",
        "\n",
        "                upload_status = gr.Textbox(\n",
        "                    label=\"Upload Status\",\n",
        "                    value=\"No file uploaded\",\n",
        "                    interactive=False\n",
        "                )\n",
        "\n",
        "                agent_status = gr.Textbox(\n",
        "                    label=\"Agent Status\",\n",
        "                    value=\"Agent not ready\",\n",
        "                    interactive=False\n",
        "                )\n",
        "\n",
        "                # Document Preview\n",
        "                gr.Markdown(\"## 👀 Document Preview\")\n",
        "                document_preview = gr.Textbox(\n",
        "                    label=\"Extracted Text Preview\",\n",
        "                    lines=8,\n",
        "                    interactive=False,\n",
        "                    placeholder=\"Upload a document to see preview...\"\n",
        "                )\n",
        "\n",
        "            with gr.Column(scale=2):\n",
        "                # Chat Section\n",
        "                gr.Markdown(\"## 💬 Step 2: Chat with Your Document\")\n",
        "\n",
        "                chatbot = gr.Chatbot(\n",
        "                    label=\"Conversation\",\n",
        "                    height=400,\n",
        "                    placeholder=\"Upload a document first, then start chatting!\"\n",
        "                )\n",
        "\n",
        "                with gr.Row():\n",
        "                    query_input = gr.Textbox(\n",
        "                        label=\"Your Question\",\n",
        "                        placeholder=\"Ask a question about your document...\",\n",
        "                        scale=4\n",
        "                    )\n",
        "                    send_button = gr.Button(\"Send\", variant=\"primary\", scale=1)\n",
        "\n",
        "                # Evaluation Results Section\n",
        "                gr.Markdown(\"## 📊 Step 3: Evaluation Metrics\")\n",
        "                evaluation_table = gr.Dataframe(\n",
        "                    label=\"Response Evaluation Scores\",\n",
        "                    headers=[\"Metric\", \"Score\", \"Status\"],\n",
        "                    interactive=False\n",
        "                )\n",
        "\n",
        "        # Event handlers\n",
        "        file_upload.change(\n",
        "            fn=handle_file_upload,\n",
        "            inputs=[file_upload],\n",
        "            outputs=[document_preview, upload_status, agent_status]\n",
        "        )\n",
        "\n",
        "        send_button.click(\n",
        "            fn=handle_chat_query,\n",
        "            inputs=[query_input, chatbot],\n",
        "            outputs=[chatbot, query_input, evaluation_table]\n",
        "        )\n",
        "\n",
        "        query_input.submit(\n",
        "            fn=handle_chat_query,\n",
        "            inputs=[query_input, chatbot],\n",
        "            outputs=[chatbot, query_input, evaluation_table]\n",
        "        )\n",
        "\n",
        "        # Example usage section\n",
        "        gr.Markdown(\"\"\"\n",
        "        ## 📝 How to Use:\n",
        "        1. **Upload**: Select and upload a document (PDF, DOCX, or TXT)\n",
        "        2. **Wait**: Wait for the document to be processed and agent to be created\n",
        "        3. **Chat**: Ask questions about your document content\n",
        "        4. **Review**: Check the evaluation metrics for each response\n",
        "\n",
        "        ## 🔍 Evaluation Metrics:\n",
        "        - **Violence**: Checks for violent or harmful content\n",
        "        - **Fluency**: Measures how well-written and coherent the response is\n",
        "        - **Relevance**: Evaluates how relevant the response is to your query\n",
        "        \"\"\")\n",
        "\n",
        "    return interface\n",
        "\n",
        "print(\"🎨 Gradio interface creation function defined!\")"
      ]
    },
    {
      "cell_type": "markdown",
      "metadata": {
        "id": "GBVhTr_VcDDC"
      },
      "source": [
        "## Step 10: Launching the Gradio Interface\n",
        "\n",
        "This section of the code is responsible for creating and starting the Gradio application for the **Azure AI Document Chat Assistant**.\n",
        "\n",
        "Once you are done and started interacting with your assistant, **you can now monitor your model’s performance** in the Azure AI Studio:\n",
        "\n",
        "### 📊 Metric Evaluator\n",
        "\n",
        "After launching your Gradio app and sending some queries, head over to **Azure AI Studio > Monitoring > Evaluation**.  \n",
        "Here, you'll find detailed **evaluation metrics** based on your requests:\n",
        "\n",
        "\n",
        "![Metric Evaluator](./images/img-1.png)\n",
        "\n",
        "---\n",
        "\n",
        "### ⚙️ Resource Usage\n",
        "\n",
        "To keep track of your model’s consumption and performance, navigate to **Azure AI Studio > Monitoring > Resource Usage**.  \n",
        "This dashboard helps you visualize how many requests have been made and the token usage breakdown.\n",
        "\n",
        "![Resource Usage](./images/img-2.png)\n",
        "\n",
        "---\n",
        "\n",
        "With this, you can analyze how efficiently your model is operating and optimize your prompts or responses as needed.\n"
      ]
    },
    {
      "cell_type": "code",
      "execution_count": null,
      "metadata": {
        "colab": {
          "base_uri": "https://localhost:8080/",
          "height": 853
        },
        "id": "7Amk0CLcJck0",
        "outputId": "df2a590d-a2d2-490a-80f9-522c763e81ee"
      },
      "outputs": [],
      "source": [
        "# Create and launch the Gradio interface\n",
        "print(\"🚀 Creating Gradio interface...\")\n",
        "app = create_gradio_interface()\n",
        "\n",
        "print(\"✅ Interface created successfully!\")\n",
        "print(\"🌐 Launching application...\")\n",
        "\n",
        "# Launch the interface\n",
        "# Use share=True to create a public link, or share=False for local only\n",
        "app.launch(\n",
        "    share=True,  # Set to False if you don't want a public link\n",
        "    server_name=\"0.0.0.0\",  # Allow external connections in Colab\n",
        "    server_port=7860,  # Port number\n",
        "    debug=True  # Enable debug mode\n",
        ")\n"
      ]
    }
  ],
  "metadata": {
    "colab": {
      "provenance": []
    },
    "kernelspec": {
      "display_name": "Python 3",
      "name": "python3"
    },
    "language_info": {
      "name": "python"
    }
  },
  "nbformat": 4,
  "nbformat_minor": 0
}
